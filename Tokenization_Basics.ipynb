{
  "nbformat": 4,
  "nbformat_minor": 0,
  "metadata": {
    "colab": {
      "name": "Tokenization Basics.ipynb",
      "provenance": [],
      "collapsed_sections": [],
      "authorship_tag": "ABX9TyPlwpoaMr1GyFEofx1X5zzr",
      "include_colab_link": true
    },
    "kernelspec": {
      "name": "python3",
      "display_name": "Python 3"
    },
    "language_info": {
      "name": "python"
    }
  },
  "cells": [
    {
      "cell_type": "markdown",
      "metadata": {
        "id": "view-in-github",
        "colab_type": "text"
      },
      "source": [
        "<a href=\"https://colab.research.google.com/github/yahyasungur/nlp_dl_ml_projects/blob/master/Tokenization_Basics.ipynb\" target=\"_parent\"><img src=\"https://colab.research.google.com/assets/colab-badge.svg\" alt=\"Open In Colab\"/></a>"
      ]
    },
    {
      "cell_type": "markdown",
      "metadata": {
        "id": "TocqRSLN3P3K"
      },
      "source": [
        "# Tokenization Basics"
      ]
    },
    {
      "cell_type": "code",
      "metadata": {
        "id": "bw0SCT6s23_a"
      },
      "source": [
        "import spacy"
      ],
      "execution_count": 1,
      "outputs": []
    },
    {
      "cell_type": "code",
      "metadata": {
        "id": "QhYj7xfX67Hx"
      },
      "source": [
        "nlp = spacy.load(name= 'en_core_web_sm')"
      ],
      "execution_count": 2,
      "outputs": []
    },
    {
      "cell_type": "code",
      "metadata": {
        "id": "fgC0Aii77F54",
        "colab": {
          "base_uri": "https://localhost:8080/"
        },
        "outputId": "027724a1-64e3-4be4-8b2d-7977e46c7aa5"
      },
      "source": [
        "!python -m spacy download en_core_web_md"
      ],
      "execution_count": 3,
      "outputs": [
        {
          "output_type": "stream",
          "name": "stdout",
          "text": [
            "Collecting en_core_web_md==2.2.5\n",
            "  Downloading https://github.com/explosion/spacy-models/releases/download/en_core_web_md-2.2.5/en_core_web_md-2.2.5.tar.gz (96.4 MB)\n",
            "\u001b[K     |████████████████████████████████| 96.4 MB 1.2 MB/s \n",
            "\u001b[?25hRequirement already satisfied: spacy>=2.2.2 in /usr/local/lib/python3.7/dist-packages (from en_core_web_md==2.2.5) (2.2.4)\n",
            "Requirement already satisfied: numpy>=1.15.0 in /usr/local/lib/python3.7/dist-packages (from spacy>=2.2.2->en_core_web_md==2.2.5) (1.19.5)\n",
            "Requirement already satisfied: blis<0.5.0,>=0.4.0 in /usr/local/lib/python3.7/dist-packages (from spacy>=2.2.2->en_core_web_md==2.2.5) (0.4.1)\n",
            "Requirement already satisfied: cymem<2.1.0,>=2.0.2 in /usr/local/lib/python3.7/dist-packages (from spacy>=2.2.2->en_core_web_md==2.2.5) (2.0.5)\n",
            "Requirement already satisfied: murmurhash<1.1.0,>=0.28.0 in /usr/local/lib/python3.7/dist-packages (from spacy>=2.2.2->en_core_web_md==2.2.5) (1.0.5)\n",
            "Requirement already satisfied: tqdm<5.0.0,>=4.38.0 in /usr/local/lib/python3.7/dist-packages (from spacy>=2.2.2->en_core_web_md==2.2.5) (4.62.2)\n",
            "Requirement already satisfied: requests<3.0.0,>=2.13.0 in /usr/local/lib/python3.7/dist-packages (from spacy>=2.2.2->en_core_web_md==2.2.5) (2.23.0)\n",
            "Requirement already satisfied: catalogue<1.1.0,>=0.0.7 in /usr/local/lib/python3.7/dist-packages (from spacy>=2.2.2->en_core_web_md==2.2.5) (1.0.0)\n",
            "Requirement already satisfied: srsly<1.1.0,>=1.0.2 in /usr/local/lib/python3.7/dist-packages (from spacy>=2.2.2->en_core_web_md==2.2.5) (1.0.5)\n",
            "Requirement already satisfied: plac<1.2.0,>=0.9.6 in /usr/local/lib/python3.7/dist-packages (from spacy>=2.2.2->en_core_web_md==2.2.5) (1.1.3)\n",
            "Requirement already satisfied: wasabi<1.1.0,>=0.4.0 in /usr/local/lib/python3.7/dist-packages (from spacy>=2.2.2->en_core_web_md==2.2.5) (0.8.2)\n",
            "Requirement already satisfied: thinc==7.4.0 in /usr/local/lib/python3.7/dist-packages (from spacy>=2.2.2->en_core_web_md==2.2.5) (7.4.0)\n",
            "Requirement already satisfied: preshed<3.1.0,>=3.0.2 in /usr/local/lib/python3.7/dist-packages (from spacy>=2.2.2->en_core_web_md==2.2.5) (3.0.5)\n",
            "Requirement already satisfied: setuptools in /usr/local/lib/python3.7/dist-packages (from spacy>=2.2.2->en_core_web_md==2.2.5) (57.4.0)\n",
            "Requirement already satisfied: importlib-metadata>=0.20 in /usr/local/lib/python3.7/dist-packages (from catalogue<1.1.0,>=0.0.7->spacy>=2.2.2->en_core_web_md==2.2.5) (4.8.1)\n",
            "Requirement already satisfied: typing-extensions>=3.6.4 in /usr/local/lib/python3.7/dist-packages (from importlib-metadata>=0.20->catalogue<1.1.0,>=0.0.7->spacy>=2.2.2->en_core_web_md==2.2.5) (3.7.4.3)\n",
            "Requirement already satisfied: zipp>=0.5 in /usr/local/lib/python3.7/dist-packages (from importlib-metadata>=0.20->catalogue<1.1.0,>=0.0.7->spacy>=2.2.2->en_core_web_md==2.2.5) (3.5.0)\n",
            "Requirement already satisfied: idna<3,>=2.5 in /usr/local/lib/python3.7/dist-packages (from requests<3.0.0,>=2.13.0->spacy>=2.2.2->en_core_web_md==2.2.5) (2.10)\n",
            "Requirement already satisfied: urllib3!=1.25.0,!=1.25.1,<1.26,>=1.21.1 in /usr/local/lib/python3.7/dist-packages (from requests<3.0.0,>=2.13.0->spacy>=2.2.2->en_core_web_md==2.2.5) (1.24.3)\n",
            "Requirement already satisfied: chardet<4,>=3.0.2 in /usr/local/lib/python3.7/dist-packages (from requests<3.0.0,>=2.13.0->spacy>=2.2.2->en_core_web_md==2.2.5) (3.0.4)\n",
            "Requirement already satisfied: certifi>=2017.4.17 in /usr/local/lib/python3.7/dist-packages (from requests<3.0.0,>=2.13.0->spacy>=2.2.2->en_core_web_md==2.2.5) (2021.5.30)\n",
            "Building wheels for collected packages: en-core-web-md\n",
            "  Building wheel for en-core-web-md (setup.py) ... \u001b[?25l\u001b[?25hdone\n",
            "  Created wheel for en-core-web-md: filename=en_core_web_md-2.2.5-py3-none-any.whl size=98051302 sha256=f9a5ff84121edcfd1f84ea665ab794c1eb28add337c5192c31fa66285a077c3e\n",
            "  Stored in directory: /tmp/pip-ephem-wheel-cache-u3crgzfi/wheels/69/c5/b8/4f1c029d89238734311b3269762ab2ee325a42da2ce8edb997\n",
            "Successfully built en-core-web-md\n",
            "Installing collected packages: en-core-web-md\n",
            "Successfully installed en-core-web-md-2.2.5\n",
            "\u001b[38;5;2m✔ Download and installation successful\u001b[0m\n",
            "You can now load the model via spacy.load('en_core_web_md')\n"
          ]
        }
      ]
    },
    {
      "cell_type": "code",
      "metadata": {
        "id": "J-XuT2lg7kOn"
      },
      "source": [
        "import en_core_web_md\n",
        "nlp_1 = en_core_web_md.load()"
      ],
      "execution_count": 4,
      "outputs": []
    },
    {
      "cell_type": "code",
      "metadata": {
        "id": "l9fjGhCJKkK7"
      },
      "source": [
        "s1 = \"Hello my friend, I am sending this from U.K.\"\n",
        "s2 = \"This is Yahya, I am looking for startup to buy $1 billion! If you know anything about it, please inform me by email yahyasungur18@hotmail.com\"\n",
        "s3 = \"How was your day ? Today I run 10km and I spent $20 in NYC\"\n",
        "s4 = \"Let's watch something\""
      ],
      "execution_count": 5,
      "outputs": []
    },
    {
      "cell_type": "code",
      "metadata": {
        "colab": {
          "base_uri": "https://localhost:8080/"
        },
        "id": "qZsuRoK5LAzq",
        "outputId": "bbb3ec69-8330-4507-f9f7-584af1c43f55"
      },
      "source": [
        "doc1 = nlp(s1)\n",
        "\n",
        "print(s1)\n",
        "for token in doc1:\n",
        "  print(token)"
      ],
      "execution_count": 6,
      "outputs": [
        {
          "output_type": "stream",
          "name": "stdout",
          "text": [
            "Hello my friend, I am sending this from U.K.\n",
            "Hello\n",
            "my\n",
            "friend\n",
            ",\n",
            "I\n",
            "am\n",
            "sending\n",
            "this\n",
            "from\n",
            "U.K.\n"
          ]
        }
      ]
    },
    {
      "cell_type": "code",
      "metadata": {
        "colab": {
          "base_uri": "https://localhost:8080/"
        },
        "id": "9J5saFC6LM_X",
        "outputId": "e0b8ed46-6b68-4b78-8ac8-48c821ed9a7d"
      },
      "source": [
        "doc2 = nlp(s2)\n",
        "print(s2)\n",
        "for token in doc2:\n",
        "  print(token)"
      ],
      "execution_count": 7,
      "outputs": [
        {
          "output_type": "stream",
          "name": "stdout",
          "text": [
            "This is Yahya, I am looking for startup to buy $1 billion! If you know anything about it, please inform me by email yahyasungur18@hotmail.com\n",
            "This\n",
            "is\n",
            "Yahya\n",
            ",\n",
            "I\n",
            "am\n",
            "looking\n",
            "for\n",
            "startup\n",
            "to\n",
            "buy\n",
            "$\n",
            "1\n",
            "billion\n",
            "!\n",
            "If\n",
            "you\n",
            "know\n",
            "anything\n",
            "about\n",
            "it\n",
            ",\n",
            "please\n",
            "inform\n",
            "me\n",
            "by\n",
            "email\n",
            "yahyasungur18@hotmail.com\n"
          ]
        }
      ]
    },
    {
      "cell_type": "code",
      "metadata": {
        "colab": {
          "base_uri": "https://localhost:8080/"
        },
        "id": "6tJECDkeL6gz",
        "outputId": "c714c9fd-0ed4-4dcd-fd09-cbf289b48d97"
      },
      "source": [
        "doc3 = nlp(s3)\n",
        "print(s3)\n",
        "for token in doc3:\n",
        "  print(token)"
      ],
      "execution_count": 8,
      "outputs": [
        {
          "output_type": "stream",
          "name": "stdout",
          "text": [
            "How was your day ? Today I run 10km and I spent $20 in NYC\n",
            "How\n",
            "was\n",
            "your\n",
            "day\n",
            "?\n",
            "Today\n",
            "I\n",
            "run\n",
            "10\n",
            "km\n",
            "and\n",
            "I\n",
            "spent\n",
            "$\n",
            "20\n",
            "in\n",
            "NYC\n"
          ]
        }
      ]
    },
    {
      "cell_type": "code",
      "metadata": {
        "colab": {
          "base_uri": "https://localhost:8080/"
        },
        "id": "OjrufDMoNAG4",
        "outputId": "f767f8d9-a5b5-4258-cd60-68da96dfd844"
      },
      "source": [
        "doc4 = nlp(s4)\n",
        "print(s4)\n",
        "for token in doc4:\n",
        "  print(token)"
      ],
      "execution_count": 9,
      "outputs": [
        {
          "output_type": "stream",
          "name": "stdout",
          "text": [
            "Let's watch something\n",
            "Let\n",
            "'s\n",
            "watch\n",
            "something\n"
          ]
        }
      ]
    },
    {
      "cell_type": "code",
      "metadata": {
        "colab": {
          "base_uri": "https://localhost:8080/"
        },
        "id": "O-gQvIigNqRQ",
        "outputId": "cbcc98e9-0763-436c-e5ff-d0b87740a58d"
      },
      "source": [
        "type(doc4)"
      ],
      "execution_count": 10,
      "outputs": [
        {
          "output_type": "execute_result",
          "data": {
            "text/plain": [
              "spacy.tokens.doc.Doc"
            ]
          },
          "metadata": {},
          "execution_count": 10
        }
      ]
    },
    {
      "cell_type": "code",
      "metadata": {
        "colab": {
          "base_uri": "https://localhost:8080/"
        },
        "id": "OrEnPeh0N0i8",
        "outputId": "2dab23c0-459c-4048-d44b-5667828abc7f"
      },
      "source": [
        "len(doc4)"
      ],
      "execution_count": 11,
      "outputs": [
        {
          "output_type": "execute_result",
          "data": {
            "text/plain": [
              "4"
            ]
          },
          "metadata": {},
          "execution_count": 11
        }
      ]
    },
    {
      "cell_type": "code",
      "metadata": {
        "colab": {
          "base_uri": "https://localhost:8080/"
        },
        "id": "GjZhyHG6N5Ch",
        "outputId": "62f05c88-9b74-4494-d455-d27e7189570a"
      },
      "source": [
        "doc4[0]"
      ],
      "execution_count": 12,
      "outputs": [
        {
          "output_type": "execute_result",
          "data": {
            "text/plain": [
              "Let"
            ]
          },
          "metadata": {},
          "execution_count": 12
        }
      ]
    },
    {
      "cell_type": "code",
      "metadata": {
        "colab": {
          "base_uri": "https://localhost:8080/"
        },
        "id": "LbqTZNOQN86_",
        "outputId": "66dc3a14-7f44-4901-fabc-66f003b5bc69"
      },
      "source": [
        "doc4[2:4]"
      ],
      "execution_count": 13,
      "outputs": [
        {
          "output_type": "execute_result",
          "data": {
            "text/plain": [
              "watch something"
            ]
          },
          "metadata": {},
          "execution_count": 13
        }
      ]
    },
    {
      "cell_type": "code",
      "metadata": {
        "colab": {
          "base_uri": "https://localhost:8080/"
        },
        "id": "b5EZraYUOCai",
        "outputId": "7a1698ce-3a55-46a0-b90d-01ae7504e667"
      },
      "source": [
        "doc4[-1]"
      ],
      "execution_count": 14,
      "outputs": [
        {
          "output_type": "execute_result",
          "data": {
            "text/plain": [
              "something"
            ]
          },
          "metadata": {},
          "execution_count": 14
        }
      ]
    }
  ]
}