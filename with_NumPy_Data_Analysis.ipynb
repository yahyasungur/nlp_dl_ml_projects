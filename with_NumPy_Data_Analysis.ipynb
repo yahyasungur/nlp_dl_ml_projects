{
  "nbformat": 4,
  "nbformat_minor": 0,
  "metadata": {
    "colab": {
      "name": "Data Analysis with NumPy.ipynb",
      "provenance": [],
      "authorship_tag": "ABX9TyMVLk+I31pkjm8629UOxsS5",
      "include_colab_link": true
    },
    "kernelspec": {
      "name": "python3",
      "display_name": "Python 3"
    },
    "language_info": {
      "name": "python"
    }
  },
  "cells": [
    {
      "cell_type": "markdown",
      "metadata": {
        "id": "view-in-github",
        "colab_type": "text"
      },
      "source": [
        "<a href=\"https://colab.research.google.com/github/yahyasungur/nlp_dl_ml_projects/blob/master/Data_Analysis_with_NumPy.ipynb\" target=\"_parent\"><img src=\"https://colab.research.google.com/assets/colab-badge.svg\" alt=\"Open In Colab\"/></a>"
      ]
    },
    {
      "cell_type": "markdown",
      "metadata": {
        "id": "HKcGTLZPT5PC"
      },
      "source": [
        "#1) NumPy Arrays"
      ]
    },
    {
      "cell_type": "code",
      "metadata": {
        "id": "y_TBVASZTzHA"
      },
      "source": [
        "# 1D array\n",
        "import numpy as np"
      ],
      "execution_count": 1,
      "outputs": []
    },
    {
      "cell_type": "code",
      "metadata": {
        "id": "b_Op9YwIULOm"
      },
      "source": [
        "my_list = [1,2,3,4,5]"
      ],
      "execution_count": 2,
      "outputs": []
    },
    {
      "cell_type": "code",
      "metadata": {
        "colab": {
          "base_uri": "https://localhost:8080/"
        },
        "id": "y4vgeQmcUOy8",
        "outputId": "573daca3-4bba-486c-b925-5d8f247ed318"
      },
      "source": [
        "np.array(my_list)"
      ],
      "execution_count": 4,
      "outputs": [
        {
          "output_type": "execute_result",
          "data": {
            "text/plain": [
              "array([1, 2, 3, 4, 5])"
            ]
          },
          "metadata": {},
          "execution_count": 4
        }
      ]
    },
    {
      "cell_type": "code",
      "metadata": {
        "id": "zX6smNwoUVhK"
      },
      "source": [
        "arr = np.array(my_list)"
      ],
      "execution_count": 5,
      "outputs": []
    },
    {
      "cell_type": "code",
      "metadata": {
        "colab": {
          "base_uri": "https://localhost:8080/"
        },
        "id": "xtENv59vUa2m",
        "outputId": "87cfd9e2-d319-4f31-98ae-1846a0809ce4"
      },
      "source": [
        "# 2D array\n",
        "my_mat = [[1,2,3],[4,5,6],[7,8,9]]\n",
        "my_mat"
      ],
      "execution_count": 7,
      "outputs": [
        {
          "output_type": "execute_result",
          "data": {
            "text/plain": [
              "[[1, 2, 3], [4, 5, 6], [7, 8, 9]]"
            ]
          },
          "metadata": {},
          "execution_count": 7
        }
      ]
    },
    {
      "cell_type": "code",
      "metadata": {
        "colab": {
          "base_uri": "https://localhost:8080/"
        },
        "id": "y97u44vyUnoR",
        "outputId": "116730bd-7373-49db-808a-48927cabc8d4"
      },
      "source": [
        "np.array(my_mat)"
      ],
      "execution_count": 9,
      "outputs": [
        {
          "output_type": "execute_result",
          "data": {
            "text/plain": [
              "array([[1, 2, 3],\n",
              "       [4, 5, 6],\n",
              "       [7, 8, 9]])"
            ]
          },
          "metadata": {},
          "execution_count": 9
        }
      ]
    },
    {
      "cell_type": "markdown",
      "metadata": {
        "id": "WTnzvibGVEHP"
      },
      "source": [
        "## Using built-in methods"
      ]
    },
    {
      "cell_type": "code",
      "metadata": {
        "colab": {
          "base_uri": "https://localhost:8080/"
        },
        "id": "aaLvX7CvUxLF",
        "outputId": "9677c856-600f-4310-8b65-240b029e3bf2"
      },
      "source": [
        "# arange\n",
        "np.arange(0,10)"
      ],
      "execution_count": 10,
      "outputs": [
        {
          "output_type": "execute_result",
          "data": {
            "text/plain": [
              "array([0, 1, 2, 3, 4, 5, 6, 7, 8, 9])"
            ]
          },
          "metadata": {},
          "execution_count": 10
        }
      ]
    },
    {
      "cell_type": "code",
      "metadata": {
        "colab": {
          "base_uri": "https://localhost:8080/"
        },
        "id": "yi9P4czHVYxi",
        "outputId": "c6df7255-3a37-4453-8f04-9b1cf0be8985"
      },
      "source": [
        "np.arange(0,11,2)"
      ],
      "execution_count": 11,
      "outputs": [
        {
          "output_type": "execute_result",
          "data": {
            "text/plain": [
              "array([ 0,  2,  4,  6,  8, 10])"
            ]
          },
          "metadata": {},
          "execution_count": 11
        }
      ]
    },
    {
      "cell_type": "code",
      "metadata": {
        "colab": {
          "base_uri": "https://localhost:8080/"
        },
        "id": "lRyA5ya9Vjfu",
        "outputId": "faf7fb41-f5d8-4727-e46c-d68e7b825ec8"
      },
      "source": [
        "# zeros\n",
        "np.zeros(3)"
      ],
      "execution_count": 12,
      "outputs": [
        {
          "output_type": "execute_result",
          "data": {
            "text/plain": [
              "array([0., 0., 0.])"
            ]
          },
          "metadata": {},
          "execution_count": 12
        }
      ]
    },
    {
      "cell_type": "code",
      "metadata": {
        "colab": {
          "base_uri": "https://localhost:8080/"
        },
        "id": "_eNQzWeIVuyv",
        "outputId": "f654e6db-129a-4729-ac70-2b963fdd102d"
      },
      "source": [
        "np.zeros((3,4))"
      ],
      "execution_count": 13,
      "outputs": [
        {
          "output_type": "execute_result",
          "data": {
            "text/plain": [
              "array([[0., 0., 0., 0.],\n",
              "       [0., 0., 0., 0.],\n",
              "       [0., 0., 0., 0.]])"
            ]
          },
          "metadata": {},
          "execution_count": 13
        }
      ]
    },
    {
      "cell_type": "code",
      "metadata": {
        "colab": {
          "base_uri": "https://localhost:8080/"
        },
        "id": "aP0CyP12V0C8",
        "outputId": "11f75ae6-a113-48e2-f96d-0bcb684355bc"
      },
      "source": [
        "# ones\n",
        "np.ones(3)"
      ],
      "execution_count": 14,
      "outputs": [
        {
          "output_type": "execute_result",
          "data": {
            "text/plain": [
              "array([1., 1., 1.])"
            ]
          },
          "metadata": {},
          "execution_count": 14
        }
      ]
    },
    {
      "cell_type": "code",
      "metadata": {
        "colab": {
          "base_uri": "https://localhost:8080/"
        },
        "id": "CePePh2uV5Vt",
        "outputId": "a084ef16-49d2-45f9-fad9-17af1b8af080"
      },
      "source": [
        "np.ones((3,4))"
      ],
      "execution_count": 15,
      "outputs": [
        {
          "output_type": "execute_result",
          "data": {
            "text/plain": [
              "array([[1., 1., 1., 1.],\n",
              "       [1., 1., 1., 1.],\n",
              "       [1., 1., 1., 1.]])"
            ]
          },
          "metadata": {},
          "execution_count": 15
        }
      ]
    },
    {
      "cell_type": "code",
      "metadata": {
        "colab": {
          "base_uri": "https://localhost:8080/"
        },
        "id": "0RImx2G1V_0s",
        "outputId": "3f6a1920-efd9-4249-aaa9-edd5b26876a2"
      },
      "source": [
        "# linspace\n",
        "np.linspace(0,5,10)"
      ],
      "execution_count": 18,
      "outputs": [
        {
          "output_type": "execute_result",
          "data": {
            "text/plain": [
              "array([0.        , 0.55555556, 1.11111111, 1.66666667, 2.22222222,\n",
              "       2.77777778, 3.33333333, 3.88888889, 4.44444444, 5.        ])"
            ]
          },
          "metadata": {},
          "execution_count": 18
        }
      ]
    },
    {
      "cell_type": "code",
      "metadata": {
        "colab": {
          "base_uri": "https://localhost:8080/"
        },
        "id": "LKFUqsLZWXW9",
        "outputId": "c722924a-9564-4a5b-946d-f7c5cfecc472"
      },
      "source": [
        "# eye\n",
        "np.eye(5)"
      ],
      "execution_count": 19,
      "outputs": [
        {
          "output_type": "execute_result",
          "data": {
            "text/plain": [
              "array([[1., 0., 0., 0., 0.],\n",
              "       [0., 1., 0., 0., 0.],\n",
              "       [0., 0., 1., 0., 0.],\n",
              "       [0., 0., 0., 1., 0.],\n",
              "       [0., 0., 0., 0., 1.]])"
            ]
          },
          "metadata": {},
          "execution_count": 19
        }
      ]
    },
    {
      "cell_type": "code",
      "metadata": {
        "colab": {
          "base_uri": "https://localhost:8080/"
        },
        "id": "9RBWBq70WeeM",
        "outputId": "32876a5d-9519-4aeb-c2dc-625ac5266323"
      },
      "source": [
        "# arrays of random numbers (uniform distribution between 0-1)\n",
        "np.random.rand(5)"
      ],
      "execution_count": 20,
      "outputs": [
        {
          "output_type": "execute_result",
          "data": {
            "text/plain": [
              "array([0.93572894, 0.66164897, 0.64012742, 0.64411734, 0.50593683])"
            ]
          },
          "metadata": {},
          "execution_count": 20
        }
      ]
    },
    {
      "cell_type": "code",
      "metadata": {
        "colab": {
          "base_uri": "https://localhost:8080/"
        },
        "id": "KOYwfFLBWph_",
        "outputId": "0af2b446-4b52-4c6b-8758-835c39727c19"
      },
      "source": [
        "np.random.rand(4,4)"
      ],
      "execution_count": 21,
      "outputs": [
        {
          "output_type": "execute_result",
          "data": {
            "text/plain": [
              "array([[0.6211203 , 0.72245597, 0.6969668 , 0.88352465],\n",
              "       [0.29106978, 0.63665818, 0.28612122, 0.8783836 ],\n",
              "       [0.11687382, 0.0663619 , 0.43155583, 0.39593336],\n",
              "       [0.56506504, 0.71140353, 0.58791038, 0.16816482]])"
            ]
          },
          "metadata": {},
          "execution_count": 21
        }
      ]
    },
    {
      "cell_type": "code",
      "metadata": {
        "colab": {
          "base_uri": "https://localhost:8080/"
        },
        "id": "NOBAiX-xWu3e",
        "outputId": "6cf1d47c-5881-40e1-b4f9-c6e9fa90e7b9"
      },
      "source": [
        "# Std normal distribution (Gaussian dist.)\n",
        "np.random.randn(4)"
      ],
      "execution_count": 22,
      "outputs": [
        {
          "output_type": "execute_result",
          "data": {
            "text/plain": [
              "array([-0.61847748, -1.07330212, -2.30555448, -0.18835594])"
            ]
          },
          "metadata": {},
          "execution_count": 22
        }
      ]
    },
    {
      "cell_type": "code",
      "metadata": {
        "colab": {
          "base_uri": "https://localhost:8080/"
        },
        "id": "s4O77d-7XB1z",
        "outputId": "5945c357-f156-4843-962a-1faf1c68a2dd"
      },
      "source": [
        "np.random.randn(4,5)"
      ],
      "execution_count": 23,
      "outputs": [
        {
          "output_type": "execute_result",
          "data": {
            "text/plain": [
              "array([[ 0.42836592,  0.10147937,  0.22867037,  0.98237432, -0.65944102],\n",
              "       [ 0.87503601, -0.23389966,  2.33437603,  0.02299739, -1.04871282],\n",
              "       [-0.04389318,  0.05704897, -1.08439024, -0.09321062,  0.02914186],\n",
              "       [ 0.26039961, -0.36736728,  0.13820031, -0.38247262,  0.12685269]])"
            ]
          },
          "metadata": {},
          "execution_count": 23
        }
      ]
    },
    {
      "cell_type": "code",
      "metadata": {
        "colab": {
          "base_uri": "https://localhost:8080/"
        },
        "id": "NiNOhPf1XFCE",
        "outputId": "497c4b74-7d49-4e91-9d9c-b457f36ce2fb"
      },
      "source": [
        "# randint\n",
        "np.random.randint(0,100)"
      ],
      "execution_count": 30,
      "outputs": [
        {
          "output_type": "execute_result",
          "data": {
            "text/plain": [
              "37"
            ]
          },
          "metadata": {},
          "execution_count": 30
        }
      ]
    },
    {
      "cell_type": "code",
      "metadata": {
        "colab": {
          "base_uri": "https://localhost:8080/"
        },
        "id": "I6QoC_qjXVdQ",
        "outputId": "91c56115-50e2-4d5d-d172-5e13ecc55291"
      },
      "source": [
        "np.random.randint(0,100,10)"
      ],
      "execution_count": 31,
      "outputs": [
        {
          "output_type": "execute_result",
          "data": {
            "text/plain": [
              "array([39, 44, 82, 20, 58, 62, 46, 47, 92, 45])"
            ]
          },
          "metadata": {},
          "execution_count": 31
        }
      ]
    },
    {
      "cell_type": "markdown",
      "metadata": {
        "id": "EjUY3sdoXovG"
      },
      "source": [
        "## Useful attributes and methods"
      ]
    },
    {
      "cell_type": "code",
      "metadata": {
        "id": "FyD92BRSXtC2"
      },
      "source": [
        "arr = np.arange(25)"
      ],
      "execution_count": 32,
      "outputs": []
    },
    {
      "cell_type": "code",
      "metadata": {
        "colab": {
          "base_uri": "https://localhost:8080/"
        },
        "id": "oCuiWTlJX5G5",
        "outputId": "32aefd97-a60e-46ab-a58c-cb976cd48817"
      },
      "source": [
        "arr"
      ],
      "execution_count": 34,
      "outputs": [
        {
          "output_type": "execute_result",
          "data": {
            "text/plain": [
              "array([ 0,  1,  2,  3,  4,  5,  6,  7,  8,  9, 10, 11, 12, 13, 14, 15, 16,\n",
              "       17, 18, 19, 20, 21, 22, 23, 24])"
            ]
          },
          "metadata": {},
          "execution_count": 34
        }
      ]
    },
    {
      "cell_type": "code",
      "metadata": {
        "colab": {
          "base_uri": "https://localhost:8080/"
        },
        "id": "8q8k75_MXwgW",
        "outputId": "8733d330-43be-4d46-89e0-2ff25a068b7c"
      },
      "source": [
        "# reshape\n",
        "arr.reshape(5,5)"
      ],
      "execution_count": 33,
      "outputs": [
        {
          "output_type": "execute_result",
          "data": {
            "text/plain": [
              "array([[ 0,  1,  2,  3,  4],\n",
              "       [ 5,  6,  7,  8,  9],\n",
              "       [10, 11, 12, 13, 14],\n",
              "       [15, 16, 17, 18, 19],\n",
              "       [20, 21, 22, 23, 24]])"
            ]
          },
          "metadata": {},
          "execution_count": 33
        }
      ]
    },
    {
      "cell_type": "code",
      "metadata": {
        "id": "YFujbX_PX4ci"
      },
      "source": [
        "# max - min\n",
        "ran_arr = np.random.randint(0,50,10)"
      ],
      "execution_count": 35,
      "outputs": []
    },
    {
      "cell_type": "code",
      "metadata": {
        "colab": {
          "base_uri": "https://localhost:8080/"
        },
        "id": "Z0NWlXcfYL2K",
        "outputId": "0d27b644-4452-4f8d-9b7a-46f7eb09e50b"
      },
      "source": [
        "ran_arr"
      ],
      "execution_count": 36,
      "outputs": [
        {
          "output_type": "execute_result",
          "data": {
            "text/plain": [
              "array([34, 28, 35,  3,  2,  8, 10, 20, 22, 26])"
            ]
          },
          "metadata": {},
          "execution_count": 36
        }
      ]
    },
    {
      "cell_type": "code",
      "metadata": {
        "colab": {
          "base_uri": "https://localhost:8080/"
        },
        "id": "iovBu_2qYNWR",
        "outputId": "ad53ebba-40ce-4347-a490-713e280c49f3"
      },
      "source": [
        "ran_arr.max() , ran_arr.min()"
      ],
      "execution_count": 37,
      "outputs": [
        {
          "output_type": "execute_result",
          "data": {
            "text/plain": [
              "(35, 2)"
            ]
          },
          "metadata": {},
          "execution_count": 37
        }
      ]
    },
    {
      "cell_type": "code",
      "metadata": {
        "colab": {
          "base_uri": "https://localhost:8080/"
        },
        "id": "Kk9ztGS5YSYo",
        "outputId": "37954325-dc59-42df-837d-a45f363a98b9"
      },
      "source": [
        "ran_arr.argmax() , ran_arr.argmin() #position of max - min"
      ],
      "execution_count": 39,
      "outputs": [
        {
          "output_type": "execute_result",
          "data": {
            "text/plain": [
              "(2, 4)"
            ]
          },
          "metadata": {},
          "execution_count": 39
        }
      ]
    },
    {
      "cell_type": "code",
      "metadata": {
        "colab": {
          "base_uri": "https://localhost:8080/"
        },
        "id": "SRD_9PlkYc6O",
        "outputId": "e4ff5b7a-5457-43f9-cc1e-72aeae939222"
      },
      "source": [
        "# shape\n",
        "arr.shapearr = np.arange(10,21)"
      ],
      "execution_count": 40,
      "outputs": [
        {
          "output_type": "execute_result",
          "data": {
            "text/plain": [
              "(25,)"
            ]
          },
          "metadata": {},
          "execution_count": 40
        }
      ]
    },
    {
      "cell_type": "code",
      "metadata": {
        "id": "SALJB_ONYjEb"
      },
      "source": [
        "b = arr.reshape(5,5)"
      ],
      "execution_count": 41,
      "outputs": []
    },
    {
      "cell_type": "code",
      "metadata": {
        "colab": {
          "base_uri": "https://localhost:8080/"
        },
        "id": "_Gdk0lOLYm_r",
        "outputId": "a71babdf-0c01-4245-eba7-4d7321ce6816"
      },
      "source": [
        "b.shape"
      ],
      "execution_count": 42,
      "outputs": [
        {
          "output_type": "execute_result",
          "data": {
            "text/plain": [
              "(5, 5)"
            ]
          },
          "metadata": {},
          "execution_count": 42
        }
      ]
    },
    {
      "cell_type": "code",
      "metadata": {
        "colab": {
          "base_uri": "https://localhost:8080/"
        },
        "id": "bjvmJqs6YoAy",
        "outputId": "9d48afc9-61c5-45fc-f3e3-ef152be6ed3b"
      },
      "source": [
        "# dtype\n",
        "arr.dtype"
      ],
      "execution_count": 43,
      "outputs": [
        {
          "output_type": "execute_result",
          "data": {
            "text/plain": [
              "dtype('int64')"
            ]
          },
          "metadata": {},
          "execution_count": 43
        }
      ]
    },
    {
      "cell_type": "markdown",
      "metadata": {
        "id": "0ICTdpAgZClH"
      },
      "source": [
        "#2) NumPy Indexing and Selection"
      ]
    },
    {
      "cell_type": "code",
      "metadata": {
        "id": "Fkpqc65IZGdk"
      },
      "source": [
        "arr = np.arange(10,21)"
      ],
      "execution_count": 45,
      "outputs": []
    },
    {
      "cell_type": "code",
      "metadata": {
        "colab": {
          "base_uri": "https://localhost:8080/"
        },
        "id": "8JQvcwR8ZNpV",
        "outputId": "83407919-05a8-41a4-b7e6-cbb6ed0b5a64"
      },
      "source": [
        "arr"
      ],
      "execution_count": 46,
      "outputs": [
        {
          "output_type": "execute_result",
          "data": {
            "text/plain": [
              "array([10, 11, 12, 13, 14, 15, 16, 17, 18, 19, 20])"
            ]
          },
          "metadata": {},
          "execution_count": 46
        }
      ]
    },
    {
      "cell_type": "code",
      "metadata": {
        "colab": {
          "base_uri": "https://localhost:8080/"
        },
        "id": "FMcyZN2gZSv5",
        "outputId": "068261e4-59ff-40e5-cfcb-f4c52c219308"
      },
      "source": [
        "arr[5]"
      ],
      "execution_count": 47,
      "outputs": [
        {
          "output_type": "execute_result",
          "data": {
            "text/plain": [
              "15"
            ]
          },
          "metadata": {},
          "execution_count": 47
        }
      ]
    },
    {
      "cell_type": "code",
      "metadata": {
        "id": "SE4VAnKmZW17"
      },
      "source": [
        "arr[:4] = 100"
      ],
      "execution_count": 48,
      "outputs": []
    },
    {
      "cell_type": "code",
      "metadata": {
        "colab": {
          "base_uri": "https://localhost:8080/"
        },
        "id": "U5vh3Y4FZxhI",
        "outputId": "a3fd1de3-0203-46bf-e48c-696ec28a8104"
      },
      "source": [
        "arr"
      ],
      "execution_count": 49,
      "outputs": [
        {
          "output_type": "execute_result",
          "data": {
            "text/plain": [
              "array([100, 100, 100, 100,  14,  15,  16,  17,  18,  19,  20])"
            ]
          },
          "metadata": {},
          "execution_count": 49
        }
      ]
    },
    {
      "cell_type": "code",
      "metadata": {
        "id": "39KI4TAeZ0Ln"
      },
      "source": [
        "arr = np.arange(10,21)"
      ],
      "execution_count": 50,
      "outputs": []
    },
    {
      "cell_type": "code",
      "metadata": {
        "id": "GalReOf2Z4SE"
      },
      "source": [
        "slice_arr = arr[0:6]"
      ],
      "execution_count": 51,
      "outputs": []
    },
    {
      "cell_type": "code",
      "metadata": {
        "colab": {
          "base_uri": "https://localhost:8080/"
        },
        "id": "LxvxvHt5Z7gX",
        "outputId": "a3b06fd6-8082-4028-8ea3-bd29f21c6ade"
      },
      "source": [
        "slice_arr"
      ],
      "execution_count": 52,
      "outputs": [
        {
          "output_type": "execute_result",
          "data": {
            "text/plain": [
              "array([10, 11, 12, 13, 14, 15])"
            ]
          },
          "metadata": {},
          "execution_count": 52
        }
      ]
    },
    {
      "cell_type": "code",
      "metadata": {
        "id": "UTQ4XuGMZ9L7"
      },
      "source": [
        "slice_arr[:] = 99"
      ],
      "execution_count": 53,
      "outputs": []
    },
    {
      "cell_type": "code",
      "metadata": {
        "colab": {
          "base_uri": "https://localhost:8080/"
        },
        "id": "uCJqaA5waH_z",
        "outputId": "b8909ce6-d211-458d-ea08-a9b47492c664"
      },
      "source": [
        "slice_arr"
      ],
      "execution_count": 54,
      "outputs": [
        {
          "output_type": "execute_result",
          "data": {
            "text/plain": [
              "array([99, 99, 99, 99, 99, 99])"
            ]
          },
          "metadata": {},
          "execution_count": 54
        }
      ]
    },
    {
      "cell_type": "code",
      "metadata": {
        "colab": {
          "base_uri": "https://localhost:8080/"
        },
        "id": "vLHCZcCYaJSr",
        "outputId": "cdba1e12-943e-4f46-e4f5-7f98102a3b49"
      },
      "source": [
        "arr"
      ],
      "execution_count": 55,
      "outputs": [
        {
          "output_type": "execute_result",
          "data": {
            "text/plain": [
              "array([99, 99, 99, 99, 99, 99, 16, 17, 18, 19, 20])"
            ]
          },
          "metadata": {},
          "execution_count": 55
        }
      ]
    },
    {
      "cell_type": "code",
      "metadata": {
        "id": "2cy_LmRGaKOO"
      },
      "source": [
        "arr_cp = arr.copy()"
      ],
      "execution_count": 56,
      "outputs": []
    },
    {
      "cell_type": "code",
      "metadata": {
        "colab": {
          "base_uri": "https://localhost:8080/"
        },
        "id": "TYosWFOaaSL3",
        "outputId": "129508e9-e624-4825-ddda-223490121d60"
      },
      "source": [
        "arr_cp"
      ],
      "execution_count": 57,
      "outputs": [
        {
          "output_type": "execute_result",
          "data": {
            "text/plain": [
              "array([99, 99, 99, 99, 99, 99, 16, 17, 18, 19, 20])"
            ]
          },
          "metadata": {},
          "execution_count": 57
        }
      ]
    },
    {
      "cell_type": "code",
      "metadata": {
        "id": "KcdaZGYWaThW"
      },
      "source": [
        "arr[:] = 100"
      ],
      "execution_count": 58,
      "outputs": []
    },
    {
      "cell_type": "code",
      "metadata": {
        "colab": {
          "base_uri": "https://localhost:8080/"
        },
        "id": "vbmQ1OptaXVr",
        "outputId": "a12fca80-f773-4eac-b57a-4ee9421c91b9"
      },
      "source": [
        "arr"
      ],
      "execution_count": 59,
      "outputs": [
        {
          "output_type": "execute_result",
          "data": {
            "text/plain": [
              "array([100, 100, 100, 100, 100, 100, 100, 100, 100, 100, 100])"
            ]
          },
          "metadata": {},
          "execution_count": 59
        }
      ]
    },
    {
      "cell_type": "code",
      "metadata": {
        "colab": {
          "base_uri": "https://localhost:8080/"
        },
        "id": "GZZdGkuZaZLa",
        "outputId": "58601670-9ebd-4351-f3de-dce17228eb8d"
      },
      "source": [
        "arr_cp"
      ],
      "execution_count": 60,
      "outputs": [
        {
          "output_type": "execute_result",
          "data": {
            "text/plain": [
              "array([99, 99, 99, 99, 99, 99, 16, 17, 18, 19, 20])"
            ]
          },
          "metadata": {},
          "execution_count": 60
        }
      ]
    },
    {
      "cell_type": "code",
      "metadata": {
        "id": "SOsgJJ9YabEX"
      },
      "source": [
        "arr = np.arange(0,11)"
      ],
      "execution_count": 61,
      "outputs": []
    },
    {
      "cell_type": "code",
      "metadata": {
        "colab": {
          "base_uri": "https://localhost:8080/"
        },
        "id": "mKWcmwxmbFzL",
        "outputId": "608a20ec-24a3-4e59-c49c-fe24fd09a6cb"
      },
      "source": [
        "arr"
      ],
      "execution_count": 62,
      "outputs": [
        {
          "output_type": "execute_result",
          "data": {
            "text/plain": [
              "array([ 0,  1,  2,  3,  4,  5,  6,  7,  8,  9, 10])"
            ]
          },
          "metadata": {},
          "execution_count": 62
        }
      ]
    },
    {
      "cell_type": "code",
      "metadata": {
        "colab": {
          "base_uri": "https://localhost:8080/"
        },
        "id": "_kfR_IbWbG0k",
        "outputId": "1639f91f-c611-497b-fba4-7226c7bb6fb3"
      },
      "source": [
        "arr > 5"
      ],
      "execution_count": 63,
      "outputs": [
        {
          "output_type": "execute_result",
          "data": {
            "text/plain": [
              "array([False, False, False, False, False, False,  True,  True,  True,\n",
              "        True,  True])"
            ]
          },
          "metadata": {},
          "execution_count": 63
        }
      ]
    },
    {
      "cell_type": "code",
      "metadata": {
        "id": "ItOxtqexbIW4"
      },
      "source": [
        "b = arr > 5"
      ],
      "execution_count": 64,
      "outputs": []
    },
    {
      "cell_type": "code",
      "metadata": {
        "colab": {
          "base_uri": "https://localhost:8080/"
        },
        "id": "gEWp68J9bOQy",
        "outputId": "f55f06e1-f35c-4857-b3f4-46eaedc27331"
      },
      "source": [
        "arr[b]"
      ],
      "execution_count": 66,
      "outputs": [
        {
          "output_type": "execute_result",
          "data": {
            "text/plain": [
              "array([ 6,  7,  8,  9, 10])"
            ]
          },
          "metadata": {},
          "execution_count": 66
        }
      ]
    },
    {
      "cell_type": "code",
      "metadata": {
        "colab": {
          "base_uri": "https://localhost:8080/"
        },
        "id": "uRsclQLubV1q",
        "outputId": "8b2d1dad-7b50-46e9-d275-d047011be553"
      },
      "source": [
        "arr[arr > 5]"
      ],
      "execution_count": 67,
      "outputs": [
        {
          "output_type": "execute_result",
          "data": {
            "text/plain": [
              "array([ 6,  7,  8,  9, 10])"
            ]
          },
          "metadata": {},
          "execution_count": 67
        }
      ]
    },
    {
      "cell_type": "code",
      "metadata": {
        "colab": {
          "base_uri": "https://localhost:8080/"
        },
        "id": "D8w0P0_5bYf9",
        "outputId": "34edb27a-853c-47be-a808-99cd3ef97d48"
      },
      "source": [
        "arr[arr < 3]"
      ],
      "execution_count": 68,
      "outputs": [
        {
          "output_type": "execute_result",
          "data": {
            "text/plain": [
              "array([0, 1, 2])"
            ]
          },
          "metadata": {},
          "execution_count": 68
        }
      ]
    }
  ]
}
