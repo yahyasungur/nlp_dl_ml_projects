{
  "nbformat": 4,
  "nbformat_minor": 0,
  "metadata": {
    "colab": {
      "name": "Sentence Segmentation.ipynb",
      "provenance": [],
      "collapsed_sections": [],
      "authorship_tag": "ABX9TyOANDsgdBd5X5fkBx6YQ8n6",
      "include_colab_link": true
    },
    "kernelspec": {
      "name": "python3",
      "display_name": "Python 3"
    },
    "language_info": {
      "name": "python"
    }
  },
  "cells": [
    {
      "cell_type": "markdown",
      "metadata": {
        "id": "view-in-github",
        "colab_type": "text"
      },
      "source": [
        "<a href=\"https://colab.research.google.com/github/yahyasungur/nlp_dl_ml_projects/blob/master/Sentence_Segmentation.ipynb\" target=\"_parent\"><img src=\"https://colab.research.google.com/assets/colab-badge.svg\" alt=\"Open In Colab\"/></a>"
      ]
    },
    {
      "cell_type": "markdown",
      "metadata": {
        "id": "4arxNxuGYFO2"
      },
      "source": [
        "# Sentence Segmentation"
      ]
    },
    {
      "cell_type": "code",
      "metadata": {
        "id": "hbWptS5VYA9q"
      },
      "source": [
        "s1 = \"This is a sentence. This is second sentence. This is last sentence.\"\n",
        "s2 = \"This is a sentence; This is second sentence; This is last sentence.\""
      ],
      "execution_count": 11,
      "outputs": []
    },
    {
      "cell_type": "code",
      "metadata": {
        "id": "E_qB57iYYVTK"
      },
      "source": [
        "import spacy\n",
        "nlp = spacy.load(name= 'en_core_web_sm')"
      ],
      "execution_count": 12,
      "outputs": []
    },
    {
      "cell_type": "code",
      "metadata": {
        "id": "fzf5UjDrYbcN"
      },
      "source": [
        "doc1 = nlp(s1)"
      ],
      "execution_count": 13,
      "outputs": []
    },
    {
      "cell_type": "code",
      "metadata": {
        "colab": {
          "base_uri": "https://localhost:8080/"
        },
        "id": "celWYReiYkKc",
        "outputId": "d7a8f1a4-f68a-4b1e-f8e5-3b98021f06ce"
      },
      "source": [
        "for sent in doc1.sents:\n",
        "  print(sent.text)"
      ],
      "execution_count": 14,
      "outputs": [
        {
          "output_type": "stream",
          "name": "stdout",
          "text": [
            "This is a sentence.\n",
            "This is second sentence.\n",
            "This is last sentence.\n"
          ]
        }
      ]
    },
    {
      "cell_type": "code",
      "metadata": {
        "id": "1QtASR39YnDZ"
      },
      "source": [
        "s3 = \"This is a sentence. This is second U.K. sentence. This is last sentence.\"\n",
        "doc3 = nlp(s3)"
      ],
      "execution_count": 15,
      "outputs": []
    },
    {
      "cell_type": "code",
      "metadata": {
        "colab": {
          "base_uri": "https://localhost:8080/"
        },
        "id": "bkvQb9mmY6At",
        "outputId": "33063540-3913-4d49-9d21-ad6fc6d92df5"
      },
      "source": [
        "for sent in doc3.sents:\n",
        "  print(sent.text)"
      ],
      "execution_count": 16,
      "outputs": [
        {
          "output_type": "stream",
          "name": "stdout",
          "text": [
            "This is a sentence.\n",
            "This is second U.K. sentence.\n",
            "This is last sentence.\n"
          ]
        }
      ]
    },
    {
      "cell_type": "code",
      "metadata": {
        "colab": {
          "base_uri": "https://localhost:8080/"
        },
        "id": "eSLJMlR0ZC5v",
        "outputId": "29328288-31de-4512-fccd-d0d5355aa38f"
      },
      "source": [
        "doc2 = nlp(s2)\n",
        "for sent in doc2.sents:\n",
        "  print(sent.text)"
      ],
      "execution_count": 17,
      "outputs": [
        {
          "output_type": "stream",
          "name": "stdout",
          "text": [
            "This is a sentence; This is second sentence; This is last sentence.\n"
          ]
        }
      ]
    },
    {
      "cell_type": "code",
      "metadata": {
        "id": "3BMS7fXiZMxC"
      },
      "source": [
        "def set_custom_boundaries(doc):\n",
        "  for token in doc[:-1]:\n",
        "    if token.text == ';':\n",
        "      #print(token.i)\n",
        "      doc[token.i+1].is_sent_start = True\n",
        "  return doc"
      ],
      "execution_count": 18,
      "outputs": []
    },
    {
      "cell_type": "code",
      "metadata": {
        "colab": {
          "base_uri": "https://localhost:8080/"
        },
        "id": "5sMARZn3aKIt",
        "outputId": "b49522ca-68b6-4b5f-9f77-f19643b422ca"
      },
      "source": [
        "nlp.pipe_names"
      ],
      "execution_count": 19,
      "outputs": [
        {
          "output_type": "execute_result",
          "data": {
            "text/plain": [
              "['tagger', 'parser', 'ner']"
            ]
          },
          "metadata": {},
          "execution_count": 19
        }
      ]
    },
    {
      "cell_type": "code",
      "metadata": {
        "id": "Y0j6wOXtaS9z"
      },
      "source": [
        "nlp.add_pipe(set_custom_boundaries, before='parser')"
      ],
      "execution_count": 20,
      "outputs": []
    },
    {
      "cell_type": "code",
      "metadata": {
        "colab": {
          "base_uri": "https://localhost:8080/"
        },
        "id": "RI8Qhoqhaaaa",
        "outputId": "88b48816-aaaf-49eb-8b99-f2c740094c58"
      },
      "source": [
        "nlp.pipe_names"
      ],
      "execution_count": 21,
      "outputs": [
        {
          "output_type": "execute_result",
          "data": {
            "text/plain": [
              "['tagger', 'set_custom_boundaries', 'parser', 'ner']"
            ]
          },
          "metadata": {},
          "execution_count": 21
        }
      ]
    },
    {
      "cell_type": "code",
      "metadata": {
        "colab": {
          "base_uri": "https://localhost:8080/"
        },
        "id": "c1lQgJIXakNB",
        "outputId": "0b73ee18-9528-49fd-f087-8a2a1d408244"
      },
      "source": [
        "doc_2 = nlp(s2)\n",
        "for sent in doc_2.sents:\n",
        "  print(sent.text)"
      ],
      "execution_count": 22,
      "outputs": [
        {
          "output_type": "stream",
          "name": "stdout",
          "text": [
            "This is a sentence;\n",
            "This is second sentence;\n",
            "This is last sentence.\n"
          ]
        }
      ]
    },
    {
      "cell_type": "code",
      "metadata": {
        "colab": {
          "base_uri": "https://localhost:8080/"
        },
        "id": "nRweL-JIgV7e",
        "outputId": "ef11f962-d5ae-42ed-a354-bfc86e7b5ed5"
      },
      "source": [
        "nlp.remove_pipe('set_custom_boundaries')"
      ],
      "execution_count": 23,
      "outputs": [
        {
          "output_type": "execute_result",
          "data": {
            "text/plain": [
              "('set_custom_boundaries', <function __main__.set_custom_boundaries>)"
            ]
          },
          "metadata": {},
          "execution_count": 23
        }
      ]
    }
  ]
}