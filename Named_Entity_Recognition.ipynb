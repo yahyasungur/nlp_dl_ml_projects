{
  "nbformat": 4,
  "nbformat_minor": 0,
  "metadata": {
    "colab": {
      "name": "Named Entity Recognition.ipynb",
      "provenance": [],
      "authorship_tag": "ABX9TyP85CsQhDwgOoT2JlBXO+Wq",
      "include_colab_link": true
    },
    "kernelspec": {
      "name": "python3",
      "display_name": "Python 3"
    },
    "language_info": {
      "name": "python"
    }
  },
  "cells": [
    {
      "cell_type": "markdown",
      "metadata": {
        "id": "view-in-github",
        "colab_type": "text"
      },
      "source": [
        "<a href=\"https://colab.research.google.com/github/yahyasungur/nlp_dl_ml_projects/blob/master/Named_Entity_Recognition.ipynb\" target=\"_parent\"><img src=\"https://colab.research.google.com/assets/colab-badge.svg\" alt=\"Open In Colab\"/></a>"
      ]
    },
    {
      "cell_type": "markdown",
      "metadata": {
        "id": "u3zM7O0ZOvLN"
      },
      "source": [
        "# Named Entity Recognition"
      ]
    },
    {
      "cell_type": "code",
      "metadata": {
        "id": "_sZLETo0Ooyt"
      },
      "source": [
        "s1 = \"Apple is looking at buying U.K. startup for $1 billion\"\n",
        "s2 = \"San Francisco considers banning sidewalk delivery robots\"\n",
        "s3 = \"facebook is hiring a new vice president in U.S.\""
      ],
      "execution_count": null,
      "outputs": []
    },
    {
      "cell_type": "code",
      "metadata": {
        "id": "s2t2bLYFPHj_"
      },
      "source": [
        "import spacy\n",
        "nlp = spacy.load(name='en_core_web_sm')"
      ],
      "execution_count": null,
      "outputs": []
    },
    {
      "cell_type": "code",
      "metadata": {
        "colab": {
          "base_uri": "https://localhost:8080/"
        },
        "id": "HeiqejolPh7N",
        "outputId": "dc359ee6-b2bf-4254-9ebb-58d6dbea683e"
      },
      "source": [
        "doc1 = nlp(s1)\n",
        "for ent in doc1.ents:\n",
        "  print(ent.text,\"---\", ent.label_,\"---\", str(spacy.explain(ent.label_)))"
      ],
      "execution_count": null,
      "outputs": [
        {
          "output_type": "stream",
          "name": "stdout",
          "text": [
            "Apple --- ORG --- Companies, agencies, institutions, etc.\n",
            "U.K. --- GPE --- Countries, cities, states\n",
            "$1 billion --- MONEY --- Monetary values, including unit\n"
          ]
        }
      ]
    },
    {
      "cell_type": "code",
      "metadata": {
        "colab": {
          "base_uri": "https://localhost:8080/"
        },
        "id": "EGlbd6wbQlEF",
        "outputId": "f5b0fe2e-f8a8-4bcb-b79a-254df70a2cab"
      },
      "source": [
        "doc2 = nlp(s2)\n",
        "for ent in doc2.ents:\n",
        "  print(ent.text,\"---\", ent.label_,\"---\", str(spacy.explain(ent.label_)))"
      ],
      "execution_count": null,
      "outputs": [
        {
          "output_type": "stream",
          "name": "stdout",
          "text": [
            "San Francisco --- GPE --- Countries, cities, states\n"
          ]
        }
      ]
    },
    {
      "cell_type": "code",
      "metadata": {
        "colab": {
          "base_uri": "https://localhost:8080/"
        },
        "id": "BIvwtieWQsBu",
        "outputId": "88577bed-08ac-4908-ea9b-f78f3059cf7b"
      },
      "source": [
        "doc3 = nlp(s3)\n",
        "for ent in doc3.ents:\n",
        "  print(ent.text,\"---\", ent.label_,\"---\", str(spacy.explain(ent.label_)))"
      ],
      "execution_count": null,
      "outputs": [
        {
          "output_type": "stream",
          "name": "stdout",
          "text": [
            "U.S. --- GPE --- Countries, cities, states\n"
          ]
        }
      ]
    },
    {
      "cell_type": "markdown",
      "metadata": {
        "id": "uWTQZpizR_N6"
      },
      "source": [
        "To add something --->"
      ]
    },
    {
      "cell_type": "code",
      "metadata": {
        "id": "HL8IXQ60RcxT"
      },
      "source": [
        "ORG = doc3.vocab.strings['ORG']"
      ],
      "execution_count": null,
      "outputs": []
    },
    {
      "cell_type": "code",
      "metadata": {
        "id": "X54GQkJURS5K"
      },
      "source": [
        "from spacy.tokens import Span\n",
        "new_ent = Span(doc3, 0, 1, label = ORG)"
      ],
      "execution_count": null,
      "outputs": []
    },
    {
      "cell_type": "code",
      "metadata": {
        "id": "9G9IdaHNQ-uf"
      },
      "source": [
        "doc3.ents = list(doc3.ents) + [new_ent]"
      ],
      "execution_count": null,
      "outputs": []
    },
    {
      "cell_type": "code",
      "metadata": {
        "colab": {
          "base_uri": "https://localhost:8080/"
        },
        "id": "l3ndtK4hRCkM",
        "outputId": "0f4b916d-5d01-48c1-ec2d-1fda9a4d3aef"
      },
      "source": [
        "doc3.ents"
      ],
      "execution_count": null,
      "outputs": [
        {
          "output_type": "execute_result",
          "data": {
            "text/plain": [
              "(facebook, U.S.)"
            ]
          },
          "metadata": {},
          "execution_count": 23
        }
      ]
    },
    {
      "cell_type": "code",
      "metadata": {
        "colab": {
          "base_uri": "https://localhost:8080/"
        },
        "id": "NG_jAUY8Rx-w",
        "outputId": "e61edb23-068d-41dc-c635-5911b5dfbb15"
      },
      "source": [
        "for ent in doc3.ents:\n",
        "  print(ent.text,\"---\", ent.label_,\"---\", str(spacy.explain(ent.label_)))"
      ],
      "execution_count": null,
      "outputs": [
        {
          "output_type": "stream",
          "name": "stdout",
          "text": [
            "facebook --- ORG --- Companies, agencies, institutions, etc.\n",
            "U.S. --- GPE --- Countries, cities, states\n"
          ]
        }
      ]
    },
    {
      "cell_type": "code",
      "metadata": {
        "id": "LHKwpmn7SDvD"
      },
      "source": [
        "from spacy import  displacy"
      ],
      "execution_count": null,
      "outputs": []
    },
    {
      "cell_type": "code",
      "metadata": {
        "colab": {
          "base_uri": "https://localhost:8080/",
          "height": 52
        },
        "id": "rDTjYAprSGx_",
        "outputId": "78240981-7ca5-4d92-9f63-310b305e7c18"
      },
      "source": [
        "displacy.render(docs= doc1, style= 'ent', jupyter=True)"
      ],
      "execution_count": null,
      "outputs": [
        {
          "output_type": "display_data",
          "data": {
            "text/html": [
              "<span class=\"tex2jax_ignore\"><div class=\"entities\" style=\"line-height: 2.5; direction: ltr\">\n",
              "<mark class=\"entity\" style=\"background: #7aecec; padding: 0.45em 0.6em; margin: 0 0.25em; line-height: 1; border-radius: 0.35em;\">\n",
              "    Apple\n",
              "    <span style=\"font-size: 0.8em; font-weight: bold; line-height: 1; border-radius: 0.35em; text-transform: uppercase; vertical-align: middle; margin-left: 0.5rem\">ORG</span>\n",
              "</mark>\n",
              " is looking at buying \n",
              "<mark class=\"entity\" style=\"background: #feca74; padding: 0.45em 0.6em; margin: 0 0.25em; line-height: 1; border-radius: 0.35em;\">\n",
              "    U.K.\n",
              "    <span style=\"font-size: 0.8em; font-weight: bold; line-height: 1; border-radius: 0.35em; text-transform: uppercase; vertical-align: middle; margin-left: 0.5rem\">GPE</span>\n",
              "</mark>\n",
              " startup for \n",
              "<mark class=\"entity\" style=\"background: #e4e7d2; padding: 0.45em 0.6em; margin: 0 0.25em; line-height: 1; border-radius: 0.35em;\">\n",
              "    $1 billion\n",
              "    <span style=\"font-size: 0.8em; font-weight: bold; line-height: 1; border-radius: 0.35em; text-transform: uppercase; vertical-align: middle; margin-left: 0.5rem\">MONEY</span>\n",
              "</mark>\n",
              "</div></span>"
            ],
            "text/plain": [
              "<IPython.core.display.HTML object>"
            ]
          },
          "metadata": {}
        }
      ]
    },
    {
      "cell_type": "code",
      "metadata": {
        "colab": {
          "base_uri": "https://localhost:8080/",
          "height": 52
        },
        "id": "Bw8wp7tWWccc",
        "outputId": "0d093b9a-e514-426f-f537-cc4c63a837bd"
      },
      "source": [
        "displacy.render(docs= doc1, style= 'ent',options={'ents': ['ORG']}, jupyter=True)"
      ],
      "execution_count": null,
      "outputs": [
        {
          "output_type": "display_data",
          "data": {
            "text/html": [
              "<span class=\"tex2jax_ignore\"><div class=\"entities\" style=\"line-height: 2.5; direction: ltr\">\n",
              "<mark class=\"entity\" style=\"background: #7aecec; padding: 0.45em 0.6em; margin: 0 0.25em; line-height: 1; border-radius: 0.35em;\">\n",
              "    Apple\n",
              "    <span style=\"font-size: 0.8em; font-weight: bold; line-height: 1; border-radius: 0.35em; text-transform: uppercase; vertical-align: middle; margin-left: 0.5rem\">ORG</span>\n",
              "</mark>\n",
              " is looking at buying U.K. startup for $1 billion</div></span>"
            ],
            "text/plain": [
              "<IPython.core.display.HTML object>"
            ]
          },
          "metadata": {}
        }
      ]
    }
  ]
}