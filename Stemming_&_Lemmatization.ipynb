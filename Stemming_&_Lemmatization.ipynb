{
  "nbformat": 4,
  "nbformat_minor": 0,
  "metadata": {
    "colab": {
      "name": "Stemming & Lemmatization.ipynb",
      "provenance": [],
      "authorship_tag": "ABX9TyOg7tZz/7QUqdfUgDjP62nD",
      "include_colab_link": true
    },
    "kernelspec": {
      "name": "python3",
      "display_name": "Python 3"
    },
    "language_info": {
      "name": "python"
    }
  },
  "cells": [
    {
      "cell_type": "markdown",
      "metadata": {
        "id": "view-in-github",
        "colab_type": "text"
      },
      "source": [
        "<a href=\"https://colab.research.google.com/github/yahyasungur/nlp_dl_ml_projects/blob/master/Stemming_%26_Lemmatization.ipynb\" target=\"_parent\"><img src=\"https://colab.research.google.com/assets/colab-badge.svg\" alt=\"Open In Colab\"/></a>"
      ]
    },
    {
      "cell_type": "markdown",
      "metadata": {
        "id": "jQGWR-TDOb3m"
      },
      "source": [
        "# Stemming & Lemmatization"
      ]
    },
    {
      "cell_type": "code",
      "metadata": {
        "id": "MF15bclpOUIu"
      },
      "source": [
        "words = ['run','running','runner','ran','runs','easily','fairly']"
      ],
      "execution_count": 1,
      "outputs": []
    },
    {
      "cell_type": "code",
      "metadata": {
        "id": "k7PyN_D79BZD"
      },
      "source": [
        "import nltk\n",
        "from nltk.stem.porter import PorterStemmer\n",
        "from nltk.stem.snowball import SnowballStemmer"
      ],
      "execution_count": 2,
      "outputs": []
    },
    {
      "cell_type": "code",
      "metadata": {
        "id": "uhmFXjK69Q9b"
      },
      "source": [
        "p_stemmer = PorterStemmer()\n",
        "s_stemmer = SnowballStemmer(language='english')"
      ],
      "execution_count": 3,
      "outputs": []
    },
    {
      "cell_type": "code",
      "metadata": {
        "colab": {
          "base_uri": "https://localhost:8080/"
        },
        "id": "xyaxx5rT9j-q",
        "outputId": "8f4962bd-c312-4a52-e40e-01c181c0a43a"
      },
      "source": [
        "for word in words:\n",
        "  print(word + '------>' + p_stemmer.stem(word))"
      ],
      "execution_count": 4,
      "outputs": [
        {
          "output_type": "stream",
          "name": "stdout",
          "text": [
            "run------>run\n",
            "running------>run\n",
            "runner------>runner\n",
            "ran------>ran\n",
            "runs------>run\n",
            "easily------>easili\n",
            "fairly------>fairli\n"
          ]
        }
      ]
    },
    {
      "cell_type": "code",
      "metadata": {
        "colab": {
          "base_uri": "https://localhost:8080/"
        },
        "id": "VQlQEh5o96lr",
        "outputId": "75327108-a216-4cb6-ac79-f9d78ce0a8ee"
      },
      "source": [
        "for word in words:\n",
        "  print(word + '------>' + s_stemmer.stem(word))"
      ],
      "execution_count": 5,
      "outputs": [
        {
          "output_type": "stream",
          "name": "stdout",
          "text": [
            "run------>run\n",
            "running------>run\n",
            "runner------>runner\n",
            "ran------>ran\n",
            "runs------>run\n",
            "easily------>easili\n",
            "fairly------>fair\n"
          ]
        }
      ]
    },
    {
      "cell_type": "markdown",
      "metadata": {
        "id": "3fLk3UbA-Vr9"
      },
      "source": [
        "# Lemmatization"
      ]
    },
    {
      "cell_type": "code",
      "metadata": {
        "id": "RPerXajT-ZB6"
      },
      "source": [
        "import spacy\n",
        "nlp = spacy.load('en_core_web_sm')"
      ],
      "execution_count": 6,
      "outputs": []
    },
    {
      "cell_type": "code",
      "metadata": {
        "id": "uMfQwc9O-jbv"
      },
      "source": [
        "doc1 = nlp('The striped bats are hanging on their feet for best')"
      ],
      "execution_count": 7,
      "outputs": []
    },
    {
      "cell_type": "code",
      "metadata": {
        "colab": {
          "base_uri": "https://localhost:8080/"
        },
        "id": "wQ8iT9qa-0P7",
        "outputId": "8469dca3-bf55-4d6d-dd3f-1b356d9ec27e"
      },
      "source": [
        "for token in doc1:\n",
        "  print(token.text, '\\t' , token.lemma_)"
      ],
      "execution_count": 8,
      "outputs": [
        {
          "output_type": "stream",
          "name": "stdout",
          "text": [
            "The \t the\n",
            "striped \t stripe\n",
            "bats \t bat\n",
            "are \t be\n",
            "hanging \t hang\n",
            "on \t on\n",
            "their \t -PRON-\n",
            "feet \t foot\n",
            "for \t for\n",
            "best \t good\n"
          ]
        }
      ]
    }
  ]
}