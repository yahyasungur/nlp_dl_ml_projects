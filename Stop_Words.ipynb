{
  "nbformat": 4,
  "nbformat_minor": 0,
  "metadata": {
    "colab": {
      "name": "Stop Words.ipynb",
      "provenance": [],
      "authorship_tag": "ABX9TyO7iHWXd18ujO9iVtLPYf+0",
      "include_colab_link": true
    },
    "kernelspec": {
      "name": "python3",
      "display_name": "Python 3"
    },
    "language_info": {
      "name": "python"
    }
  },
  "cells": [
    {
      "cell_type": "markdown",
      "metadata": {
        "id": "view-in-github",
        "colab_type": "text"
      },
      "source": [
        "<a href=\"https://colab.research.google.com/github/yahyasungur/nlp_dl_ml_projects/blob/master/Stop_Words.ipynb\" target=\"_parent\"><img src=\"https://colab.research.google.com/assets/colab-badge.svg\" alt=\"Open In Colab\"/></a>"
      ]
    },
    {
      "cell_type": "code",
      "metadata": {
        "id": "offFGVAK_yz1"
      },
      "source": [
        "import spacy\n",
        "nlp = spacy.load('en_core_web_sm')"
      ],
      "execution_count": 1,
      "outputs": []
    },
    {
      "cell_type": "code",
      "metadata": {
        "colab": {
          "base_uri": "https://localhost:8080/"
        },
        "id": "LOIWDQIOARo4",
        "outputId": "f2877311-4220-49e0-e1c8-9772ad39d757"
      },
      "source": [
        "print(nlp.Defaults.stop_words)"
      ],
      "execution_count": 2,
      "outputs": [
        {
          "output_type": "stream",
          "name": "stdout",
          "text": [
            "{'his', 'something', 'bottom', 'never', 'thereafter', 'how', 'formerly', 'after', 'an', 'call', 'however', 'eight', 'perhaps', '‘d', 'well', 'twelve', 'put', 'per', 'really', 'why', 'anyone', 'besides', '’re', 'no', 'that', 'doing', 'go', 'she', 'this', 'either', 'whereas', 'amongst', 'onto', 'therein', 'among', 'indeed', 'sixty', 'whereupon', 'elsewhere', '‘ll', 'me', 'from', 'which', 'at', 'beyond', 'has', 'everything', 'until', 'whither', 'else', \"n't\", 'whence', 'least', 'upon', 'first', 'down', 'side', 'someone', 'throughout', 'under', 'using', 'whatever', 'or', 'neither', 'sometime', 'these', 'regarding', 'now', 'otherwise', 'seems', 'themselves', 'make', 'almost', 'everywhere', 'amount', '‘s', 'each', 'within', 'full', 'herein', 'one', 'thus', 'sometimes', 'when', '’ve', 'n‘t', 'back', 'him', 'beside', 'seemed', 'empty', \"'ll\", 'have', 'mostly', 'serious', 'anywhere', 'up', 'whom', 'next', 'some', \"'re\", 'be', 'done', '‘ve', 'since', 'ten', 'several', 'unless', 'eleven', 'get', 'less', 'might', 'not', 'we', 'were', 'name', 'nobody', 'various', 'was', 'again', 'just', 'to', 'see', 'becoming', 'there', 'anything', 'you', 'once', 'becomes', 'they', 'latterly', 'about', 'then', 'rather', 'because', 'give', 'both', '‘re', 'such', 'whole', 'toward', 'i', 're', 'fifty', 'forty', 'few', 'except', 'herself', 'already', 'them', 'wherever', 'what', 'will', 'on', 'often', 'please', 'does', 'am', 'a', 'with', 'into', 'further', 'last', 'ca', 'before', 'ours', 'two', 'due', 'here', 'front', 'many', 'off', 'hereupon', 'yours', 'too', 'latter', 'every', 'nowhere', 'therefore', 'more', 'as', 'n’t', 'six', 'the', 'would', 'must', 'being', 'somewhere', 'do', 'became', 'if', 'top', 'by', 'in', 'ourselves', 'even', 'for', '’ll', 'though', 'same', 'afterwards', 'wherein', 'very', 'much', 'it', 'seeming', 'and', 'hereafter', 'below', 'third', 'still', 'fifteen', 'other', 'anyway', 'is', \"'s\", 'four', 'nine', 'hundred', 'hers', 'beforehand', '‘m', '’d', 'been', 'thereby', 'of', 'used', 'become', 'through', 'over', 'say', 'meanwhile', 'five', 'myself', 'nor', 'twenty', 'whenever', '’m', 'hence', 'everyone', 'may', 'yourself', '’s', 'alone', 'cannot', 'others', 'thereupon', 'its', 'our', 'her', 'although', 'somehow', 'mine', 'yourselves', 'above', 'out', 'along', 'itself', 'three', 'thru', \"'m\", 'only', 'nevertheless', 'most', 'around', 'show', 'himself', 'during', 'towards', 'whereby', 'namely', 'but', 'together', 'without', 'your', 'so', 'he', 'keep', 'whereafter', 'whether', \"'ve\", 'via', 'whoever', 'any', 'always', 'can', 'nothing', 'between', 'those', 'ever', 'noone', 'anyhow', 'my', 'could', 'should', 'where', 'another', 'their', 'part', 'move', 'seem', 'behind', 'against', 'former', 'are', 'thence', 'yet', 'made', 'hereby', 'us', 'all', 'did', 'moreover', 'whose', 'while', 'had', 'take', 'across', 'who', 'quite', 'own', 'also', 'none', 'than', 'enough', \"'d\"}\n"
          ]
        }
      ]
    },
    {
      "cell_type": "code",
      "metadata": {
        "colab": {
          "base_uri": "https://localhost:8080/"
        },
        "id": "5mURre3RAZfy",
        "outputId": "2a7d07ce-2e18-4fa3-e5c0-c1e56d4844db"
      },
      "source": [
        "len(nlp.Defaults.stop_words)"
      ],
      "execution_count": 3,
      "outputs": [
        {
          "output_type": "execute_result",
          "data": {
            "text/plain": [
              "326"
            ]
          },
          "metadata": {},
          "execution_count": 3
        }
      ]
    },
    {
      "cell_type": "code",
      "metadata": {
        "colab": {
          "base_uri": "https://localhost:8080/"
        },
        "id": "tZR8LhlGAbQb",
        "outputId": "ac384304-64c8-4fe9-9e15-8e4c3e1cbfaf"
      },
      "source": [
        "nlp.vocab['always'].is_stop"
      ],
      "execution_count": 4,
      "outputs": [
        {
          "output_type": "execute_result",
          "data": {
            "text/plain": [
              "True"
            ]
          },
          "metadata": {},
          "execution_count": 4
        }
      ]
    },
    {
      "cell_type": "code",
      "metadata": {
        "colab": {
          "base_uri": "https://localhost:8080/"
        },
        "id": "jwgVwTa4AokF",
        "outputId": "c16bb37e-f8c8-44d9-a0f3-9be009e27e7f"
      },
      "source": [
        "nlp.vocab['hello'].is_stop"
      ],
      "execution_count": 5,
      "outputs": [
        {
          "output_type": "execute_result",
          "data": {
            "text/plain": [
              "False"
            ]
          },
          "metadata": {},
          "execution_count": 5
        }
      ]
    },
    {
      "cell_type": "code",
      "metadata": {
        "colab": {
          "base_uri": "https://localhost:8080/"
        },
        "id": "NYHDlhBKAxym",
        "outputId": "f7b03ec2-d59f-42f2-d83a-27804c7d7f83"
      },
      "source": [
        "nlp.vocab['asdf'].is_stop"
      ],
      "execution_count": 6,
      "outputs": [
        {
          "output_type": "execute_result",
          "data": {
            "text/plain": [
              "False"
            ]
          },
          "metadata": {},
          "execution_count": 6
        }
      ]
    },
    {
      "cell_type": "code",
      "metadata": {
        "id": "x9t577nlBBTX"
      },
      "source": [
        "nlp.Defaults.stop_words.add('asdf')\n",
        "nlp.vocab['asdf'].is_stop = True"
      ],
      "execution_count": 7,
      "outputs": []
    },
    {
      "cell_type": "code",
      "metadata": {
        "colab": {
          "base_uri": "https://localhost:8080/"
        },
        "id": "9KtIjL0VBLb5",
        "outputId": "6bb5edf2-0e09-417a-a1b8-8b9c0eeba93c"
      },
      "source": [
        "nlp.vocab['asdf'].is_stop"
      ],
      "execution_count": 8,
      "outputs": [
        {
          "output_type": "execute_result",
          "data": {
            "text/plain": [
              "True"
            ]
          },
          "metadata": {},
          "execution_count": 8
        }
      ]
    },
    {
      "cell_type": "code",
      "metadata": {
        "colab": {
          "base_uri": "https://localhost:8080/"
        },
        "id": "5r18cAP2BZZ6",
        "outputId": "ca656a34-d040-4b91-ce3a-d21798d37438"
      },
      "source": [
        "len(nlp.Defaults.stop_words)"
      ],
      "execution_count": 9,
      "outputs": [
        {
          "output_type": "execute_result",
          "data": {
            "text/plain": [
              "327"
            ]
          },
          "metadata": {},
          "execution_count": 9
        }
      ]
    },
    {
      "cell_type": "code",
      "metadata": {
        "id": "7O8qCXytBefQ"
      },
      "source": [
        "nlp.vocab['asdf'].is_stop = False\n",
        "nlp.Defaults.stop_words.remove('asdf')"
      ],
      "execution_count": 10,
      "outputs": []
    },
    {
      "cell_type": "code",
      "metadata": {
        "id": "GrpPphdtBy8l",
        "colab": {
          "base_uri": "https://localhost:8080/"
        },
        "outputId": "12c1c73e-09f1-458f-f8c6-dead66f23296"
      },
      "source": [
        "nlp.vocab['asdf'].is_stop"
      ],
      "execution_count": 11,
      "outputs": [
        {
          "output_type": "execute_result",
          "data": {
            "text/plain": [
              "False"
            ]
          },
          "metadata": {},
          "execution_count": 11
        }
      ]
    }
  ]
}