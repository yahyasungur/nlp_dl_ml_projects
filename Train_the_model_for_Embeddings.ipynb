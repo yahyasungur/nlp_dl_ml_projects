{
  "nbformat": 4,
  "nbformat_minor": 0,
  "metadata": {
    "colab": {
      "name": "Train the model for Embeddings.ipynb",
      "provenance": [],
      "authorship_tag": "ABX9TyPsM6WgIWw/TL3di9OTDv8F",
      "include_colab_link": true
    },
    "kernelspec": {
      "name": "python3",
      "display_name": "Python 3"
    },
    "language_info": {
      "name": "python"
    }
  },
  "cells": [
    {
      "cell_type": "markdown",
      "metadata": {
        "id": "view-in-github",
        "colab_type": "text"
      },
      "source": [
        "<a href=\"https://colab.research.google.com/github/yahyasungur/nlp_dl_ml_projects/blob/master/Train_the_model_for_Embeddings.ipynb\" target=\"_parent\"><img src=\"https://colab.research.google.com/assets/colab-badge.svg\" alt=\"Open In Colab\"/></a>"
      ]
    },
    {
      "cell_type": "markdown",
      "metadata": {
        "id": "ql3HhjGK2S0H"
      },
      "source": [
        "#Importing the libraries"
      ]
    },
    {
      "cell_type": "code",
      "metadata": {
        "colab": {
          "base_uri": "https://localhost:8080/"
        },
        "id": "eULM0J26Gyes",
        "outputId": "5b6d3488-d9ca-4caa-d686-729e0f9b64fb"
      },
      "source": [
        " import tensorflow as tf\n",
        " print(tf.__version__)"
      ],
      "execution_count": 1,
      "outputs": [
        {
          "output_type": "stream",
          "name": "stdout",
          "text": [
            "2.6.0\n"
          ]
        }
      ]
    },
    {
      "cell_type": "code",
      "metadata": {
        "colab": {
          "base_uri": "https://localhost:8080/"
        },
        "id": "-bqP0vy_2tHM",
        "outputId": "a099915c-2a46-4f0c-b44a-eca20f0a9349"
      },
      "source": [
        "import nltk\n",
        "nltk.download('punkt')"
      ],
      "execution_count": 2,
      "outputs": [
        {
          "output_type": "stream",
          "name": "stdout",
          "text": [
            "[nltk_data] Downloading package punkt to /root/nltk_data...\n",
            "[nltk_data]   Unzipping tokenizers/punkt.zip.\n"
          ]
        },
        {
          "output_type": "execute_result",
          "data": {
            "text/plain": [
              "True"
            ]
          },
          "metadata": {},
          "execution_count": 2
        }
      ]
    },
    {
      "cell_type": "code",
      "metadata": {
        "id": "q4ecyRuT20DC"
      },
      "source": [
        "import pandas as pd\n",
        "import gensim\n",
        "from gensim.models import Word2Vec, KeyedVectors"
      ],
      "execution_count": 3,
      "outputs": []
    },
    {
      "cell_type": "markdown",
      "metadata": {
        "id": "N-CQ18gv2WoH"
      },
      "source": [
        "#Data preprocessing"
      ]
    },
    {
      "cell_type": "code",
      "metadata": {
        "id": "eWrtVYBR2cDI"
      },
      "source": [
        "# Google pretrained model\n",
        "# https://www.kaggle.com/rootuser/worldnews-on-reddit\n",
        "\n",
        "# install kaggle API\n",
        "! pip install -q kaggle"
      ],
      "execution_count": 4,
      "outputs": []
    },
    {
      "cell_type": "code",
      "metadata": {
        "id": "ZG8d46yx3bMp"
      },
      "source": [
        "# create a directory as kaggle\n",
        "! mkdir -p ~/.kaggle"
      ],
      "execution_count": 5,
      "outputs": []
    },
    {
      "cell_type": "code",
      "metadata": {
        "id": "iulkR39c3dQb"
      },
      "source": [
        "# copy API key to kaggle directory\n",
        "! cp kaggle.json ~/.kaggle"
      ],
      "execution_count": 7,
      "outputs": []
    },
    {
      "cell_type": "code",
      "metadata": {
        "id": "Xk-tP9rw4e42"
      },
      "source": [
        "# disable the API key\n",
        "! chmod 600 /root/.kaggle/kaggle.json"
      ],
      "execution_count": 8,
      "outputs": []
    },
    {
      "cell_type": "code",
      "metadata": {
        "colab": {
          "base_uri": "https://localhost:8080/"
        },
        "id": "pfarQDNI4j6z",
        "outputId": "ccb47b58-b954-4e85-b58b-3d6c86b35ceb"
      },
      "source": [
        "# import the dataset\n",
        "! kaggle datasets download -d rootuser/worldnews-on-reddit"
      ],
      "execution_count": 9,
      "outputs": [
        {
          "output_type": "stream",
          "name": "stdout",
          "text": [
            "Downloading worldnews-on-reddit.zip to /content\n",
            " 64% 17.0M/26.6M [00:00<00:00, 37.2MB/s]\n",
            "100% 26.6M/26.6M [00:00<00:00, 60.2MB/s]\n"
          ]
        }
      ]
    },
    {
      "cell_type": "code",
      "metadata": {
        "colab": {
          "base_uri": "https://localhost:8080/"
        },
        "id": "wKizwztk4mn7",
        "outputId": "3798765d-e40e-4902-8dc3-a0126e2720cf"
      },
      "source": [
        "# unzip the dataset\n",
        "! unzip /content/worldnews-on-reddit"
      ],
      "execution_count": 10,
      "outputs": [
        {
          "output_type": "stream",
          "name": "stdout",
          "text": [
            "Archive:  /content/worldnews-on-reddit.zip\n",
            "  inflating: reddit_worldnews_start_to_2016-11-22.csv  \n"
          ]
        }
      ]
    },
    {
      "cell_type": "code",
      "metadata": {
        "id": "SSwiNIHr4sah"
      },
      "source": [
        "df = pd.read_csv('/content/reddit_worldnews_start_to_2016-11-22.csv')"
      ],
      "execution_count": 11,
      "outputs": []
    },
    {
      "cell_type": "code",
      "metadata": {
        "colab": {
          "base_uri": "https://localhost:8080/",
          "height": 204
        },
        "id": "fh5WELbe4uNp",
        "outputId": "a6636ac3-304d-4d01-f650-f9db03242095"
      },
      "source": [
        "df.head()"
      ],
      "execution_count": 12,
      "outputs": [
        {
          "output_type": "execute_result",
          "data": {
            "text/html": [
              "<div>\n",
              "<style scoped>\n",
              "    .dataframe tbody tr th:only-of-type {\n",
              "        vertical-align: middle;\n",
              "    }\n",
              "\n",
              "    .dataframe tbody tr th {\n",
              "        vertical-align: top;\n",
              "    }\n",
              "\n",
              "    .dataframe thead th {\n",
              "        text-align: right;\n",
              "    }\n",
              "</style>\n",
              "<table border=\"1\" class=\"dataframe\">\n",
              "  <thead>\n",
              "    <tr style=\"text-align: right;\">\n",
              "      <th></th>\n",
              "      <th>time_created</th>\n",
              "      <th>date_created</th>\n",
              "      <th>up_votes</th>\n",
              "      <th>down_votes</th>\n",
              "      <th>title</th>\n",
              "      <th>over_18</th>\n",
              "      <th>author</th>\n",
              "      <th>subreddit</th>\n",
              "    </tr>\n",
              "  </thead>\n",
              "  <tbody>\n",
              "    <tr>\n",
              "      <th>0</th>\n",
              "      <td>1201232046</td>\n",
              "      <td>2008-01-25</td>\n",
              "      <td>3</td>\n",
              "      <td>0</td>\n",
              "      <td>Scores killed in Pakistan clashes</td>\n",
              "      <td>False</td>\n",
              "      <td>polar</td>\n",
              "      <td>worldnews</td>\n",
              "    </tr>\n",
              "    <tr>\n",
              "      <th>1</th>\n",
              "      <td>1201232075</td>\n",
              "      <td>2008-01-25</td>\n",
              "      <td>2</td>\n",
              "      <td>0</td>\n",
              "      <td>Japan resumes refuelling mission</td>\n",
              "      <td>False</td>\n",
              "      <td>polar</td>\n",
              "      <td>worldnews</td>\n",
              "    </tr>\n",
              "    <tr>\n",
              "      <th>2</th>\n",
              "      <td>1201232523</td>\n",
              "      <td>2008-01-25</td>\n",
              "      <td>3</td>\n",
              "      <td>0</td>\n",
              "      <td>US presses Egypt on Gaza border</td>\n",
              "      <td>False</td>\n",
              "      <td>polar</td>\n",
              "      <td>worldnews</td>\n",
              "    </tr>\n",
              "    <tr>\n",
              "      <th>3</th>\n",
              "      <td>1201233290</td>\n",
              "      <td>2008-01-25</td>\n",
              "      <td>1</td>\n",
              "      <td>0</td>\n",
              "      <td>Jump-start economy: Give health care to all</td>\n",
              "      <td>False</td>\n",
              "      <td>fadi420</td>\n",
              "      <td>worldnews</td>\n",
              "    </tr>\n",
              "    <tr>\n",
              "      <th>4</th>\n",
              "      <td>1201274720</td>\n",
              "      <td>2008-01-25</td>\n",
              "      <td>4</td>\n",
              "      <td>0</td>\n",
              "      <td>Council of Europe bashes EU&amp;UN terror blacklist</td>\n",
              "      <td>False</td>\n",
              "      <td>mhermans</td>\n",
              "      <td>worldnews</td>\n",
              "    </tr>\n",
              "  </tbody>\n",
              "</table>\n",
              "</div>"
            ],
            "text/plain": [
              "   time_created date_created  up_votes  ...  over_18    author  subreddit\n",
              "0    1201232046   2008-01-25         3  ...    False     polar  worldnews\n",
              "1    1201232075   2008-01-25         2  ...    False     polar  worldnews\n",
              "2    1201232523   2008-01-25         3  ...    False     polar  worldnews\n",
              "3    1201233290   2008-01-25         1  ...    False   fadi420  worldnews\n",
              "4    1201274720   2008-01-25         4  ...    False  mhermans  worldnews\n",
              "\n",
              "[5 rows x 8 columns]"
            ]
          },
          "metadata": {},
          "execution_count": 12
        }
      ]
    },
    {
      "cell_type": "code",
      "metadata": {
        "colab": {
          "base_uri": "https://localhost:8080/"
        },
        "id": "EPBKRUmP5Els",
        "outputId": "e5e5419b-3c2c-4477-ed1d-31c62c5b4120"
      },
      "source": [
        "df.shape"
      ],
      "execution_count": 13,
      "outputs": [
        {
          "output_type": "execute_result",
          "data": {
            "text/plain": [
              "(509236, 8)"
            ]
          },
          "metadata": {},
          "execution_count": 13
        }
      ]
    },
    {
      "cell_type": "code",
      "metadata": {
        "id": "96UgUdel5Y-R"
      },
      "source": [
        "# Take title column\n",
        "news_titles = df['title'].values"
      ],
      "execution_count": 14,
      "outputs": []
    },
    {
      "cell_type": "code",
      "metadata": {
        "colab": {
          "base_uri": "https://localhost:8080/"
        },
        "id": "PlObGgP25je3",
        "outputId": "7d6554b9-eb8f-44ce-c6ca-baffebeb836b"
      },
      "source": [
        "news_titles"
      ],
      "execution_count": 15,
      "outputs": [
        {
          "output_type": "execute_result",
          "data": {
            "text/plain": [
              "array(['Scores killed in Pakistan clashes',\n",
              "       'Japan resumes refuelling mission',\n",
              "       'US presses Egypt on Gaza border', ...,\n",
              "       'Professor receives Arab Researchers Award',\n",
              "       'Nigel Farage attacks response to Trump ambassador tweet',\n",
              "       'Palestinian wielding knife shot dead in West Bank: Israel police'],\n",
              "      dtype=object)"
            ]
          },
          "metadata": {},
          "execution_count": 15
        }
      ]
    },
    {
      "cell_type": "code",
      "metadata": {
        "id": "uwMdRaY75qnC"
      },
      "source": [
        "# tokanize the words\n",
        "new_vec = [nltk.word_tokenize(title) for title in news_titles]"
      ],
      "execution_count": 16,
      "outputs": []
    },
    {
      "cell_type": "code",
      "metadata": {
        "colab": {
          "base_uri": "https://localhost:8080/"
        },
        "id": "WZMpaUY556dF",
        "outputId": "cf4e1467-5f4c-4df7-deb0-058bc570d1a1"
      },
      "source": [
        "new_vec[0]"
      ],
      "execution_count": 18,
      "outputs": [
        {
          "output_type": "execute_result",
          "data": {
            "text/plain": [
              "['Scores', 'killed', 'in', 'Pakistan', 'clashes']"
            ]
          },
          "metadata": {},
          "execution_count": 18
        }
      ]
    },
    {
      "cell_type": "markdown",
      "metadata": {
        "id": "Zp11mVgR6UuB"
      },
      "source": [
        "#Building the model"
      ]
    },
    {
      "cell_type": "code",
      "metadata": {
        "id": "9q_9flKn6XZC"
      },
      "source": [
        "model = Word2Vec(new_vec, min_count=1, size= 32)\n",
        "# text, min word count, size of each vector"
      ],
      "execution_count": 19,
      "outputs": []
    },
    {
      "cell_type": "code",
      "metadata": {
        "colab": {
          "base_uri": "https://localhost:8080/"
        },
        "id": "IHvQ9P2S79Ni",
        "outputId": "ac38b6ea-cf69-47f0-a02a-5736c2b312f6"
      },
      "source": [
        "model"
      ],
      "execution_count": 20,
      "outputs": [
        {
          "output_type": "execute_result",
          "data": {
            "text/plain": [
              "<gensim.models.word2vec.Word2Vec at 0x7f78e6f202d0>"
            ]
          },
          "metadata": {},
          "execution_count": 20
        }
      ]
    },
    {
      "cell_type": "markdown",
      "metadata": {
        "id": "rXCtqugg7eSW"
      },
      "source": [
        "#Predict the output"
      ]
    },
    {
      "cell_type": "code",
      "metadata": {
        "colab": {
          "base_uri": "https://localhost:8080/"
        },
        "id": "02Zev5OP8C-F",
        "outputId": "5c169a69-8d8d-408d-bd89-5eeeb48fc2cb"
      },
      "source": [
        "# this is how man is represented in our vec. space\n",
        "model.wv['man']"
      ],
      "execution_count": 21,
      "outputs": [
        {
          "output_type": "execute_result",
          "data": {
            "text/plain": [
              "array([ 0.5287505 , -4.591286  ,  3.2897542 ,  2.6874084 , -2.379098  ,\n",
              "       -6.3917885 , -3.4140396 , -1.2572612 , -0.6393108 , -0.49477702,\n",
              "        2.3877206 ,  1.3555714 , -2.0762777 ,  2.4935253 ,  2.9892993 ,\n",
              "        0.6974515 ,  2.694891  ,  2.985051  ,  3.478391  , -4.3326845 ,\n",
              "        2.517788  , -3.0983126 , -2.5817215 , -2.3182693 , -0.77152324,\n",
              "        1.4536917 , -0.63020474,  2.3701575 , -1.3876622 ,  0.9905895 ,\n",
              "       -3.2806592 , -3.4289536 ], dtype=float32)"
            ]
          },
          "metadata": {},
          "execution_count": 21
        }
      ]
    },
    {
      "cell_type": "code",
      "metadata": {
        "colab": {
          "base_uri": "https://localhost:8080/"
        },
        "id": "14UYhhXb7hGt",
        "outputId": "40a6f21a-baee-47ba-fa08-9d3523bf10fa"
      },
      "source": [
        "#Find 10 closest words in the vector space we have created\n",
        "model.wv.most_similar('man')"
      ],
      "execution_count": 22,
      "outputs": [
        {
          "output_type": "execute_result",
          "data": {
            "text/plain": [
              "[('woman', 0.9723144173622131),\n",
              " ('girl', 0.9152591228485107),\n",
              " ('boy', 0.8874244093894958),\n",
              " ('couple', 0.8872882127761841),\n",
              " ('teacher', 0.8616616129875183),\n",
              " ('teenager', 0.8556163311004639),\n",
              " ('mother', 0.8528323173522949),\n",
              " ('doctor', 0.8494237661361694),\n",
              " ('father', 0.8221330642700195),\n",
              " ('daughter', 0.8193493485450745)]"
            ]
          },
          "metadata": {},
          "execution_count": 22
        }
      ]
    },
    {
      "cell_type": "code",
      "metadata": {
        "colab": {
          "base_uri": "https://localhost:8080/"
        },
        "id": "hdPe7PgQ8kBN",
        "outputId": "0bec24ad-4cab-46ad-83db-cead01c5b1f4"
      },
      "source": [
        "# let's try the famous relationship\n",
        "vec = model.wv['king'] - model.wv['man'] + model.wv['women']\n",
        "model.wv.most_similar([vec])"
      ],
      "execution_count": 23,
      "outputs": [
        {
          "output_type": "execute_result",
          "data": {
            "text/plain": [
              "[('office—and', 0.7965913414955139),\n",
              " ('parties', 0.7056441307067871),\n",
              " ('women', 0.6756975650787354),\n",
              " ('clerics', 0.6672356128692627),\n",
              " ('free-movement', 0.6571006774902344),\n",
              " ('campaigners', 0.6497793793678284),\n",
              " ('dialog', 0.636975884437561),\n",
              " ('Muslims', 0.6281842589378357),\n",
              " ('organisations', 0.6259411573410034),\n",
              " ('freedoms', 0.6215727925300598)]"
            ]
          },
          "metadata": {},
          "execution_count": 23
        }
      ]
    },
    {
      "cell_type": "code",
      "metadata": {
        "colab": {
          "base_uri": "https://localhost:8080/"
        },
        "id": "AJIQ9vHO9jrZ",
        "outputId": "55fcd068-43cb-4f0e-b415-fe9a3c90a945"
      },
      "source": [
        "#Relationship\n",
        "vec = model.wv['Germany'] - model.wv['Berlin'] + model.wv['Paris']\n",
        "model.wv.most_similar([vec])\n",
        "# Germany - Capital of Germany + Capital of France => France :)"
      ],
      "execution_count": 24,
      "outputs": [
        {
          "output_type": "execute_result",
          "data": {
            "text/plain": [
              "[('France', 0.8805805444717407),\n",
              " ('Germany', 0.8529587388038635),\n",
              " ('Belgium', 0.8399219512939453),\n",
              " ('Paris', 0.8355648517608643),\n",
              " ('Sweden', 0.829368531703949),\n",
              " ('Brussels', 0.7728636264801025),\n",
              " ('UK', 0.7484903931617737),\n",
              " ('Britain', 0.7471987009048462),\n",
              " ('Switzerland', 0.724898099899292),\n",
              " ('Norway', 0.7241060733795166)]"
            ]
          },
          "metadata": {},
          "execution_count": 24
        }
      ]
    },
    {
      "cell_type": "code",
      "metadata": {
        "colab": {
          "base_uri": "https://localhost:8080/"
        },
        "id": "TEcpTm5X-Byt",
        "outputId": "aa389606-400f-437c-bfce-04445565df02"
      },
      "source": [
        "#Relationship\n",
        "vec = model.wv['Messi'] - model.wv['Football'] + model.wv['Basketball']\n",
        "model.wv.most_similar([vec])"
      ],
      "execution_count": 28,
      "outputs": [
        {
          "output_type": "execute_result",
          "data": {
            "text/plain": [
              "[('monochrome', 0.7187941074371338),\n",
              " ('malaysian', 0.7055420875549316),\n",
              " ('casings', 0.6774667501449585),\n",
              " ('oar', 0.6737223267555237),\n",
              " ('92-meter-long', 0.6639619469642639),\n",
              " ('Gorleben', 0.6628297567367554),\n",
              " ('becouse', 0.6437209844589233),\n",
              " ('90x', 0.6422110199928284),\n",
              " ('X-2', 0.6378070116043091),\n",
              " ('million-worth', 0.6374385356903076)]"
            ]
          },
          "metadata": {},
          "execution_count": 28
        }
      ]
    }
  ]
}