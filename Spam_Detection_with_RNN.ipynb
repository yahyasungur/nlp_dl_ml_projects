{
  "nbformat": 4,
  "nbformat_minor": 0,
  "metadata": {
    "colab": {
      "name": "Spam Detection with RNN.ipynb",
      "provenance": [],
      "authorship_tag": "ABX9TyNYBE3fLlC9AvRWeErNKfah",
      "include_colab_link": true
    },
    "kernelspec": {
      "name": "python3",
      "display_name": "Python 3"
    },
    "language_info": {
      "name": "python"
    }
  },
  "cells": [
    {
      "cell_type": "markdown",
      "metadata": {
        "id": "view-in-github",
        "colab_type": "text"
      },
      "source": [
        "<a href=\"https://colab.research.google.com/github/yahyasungur/nlp_dl_ml_projects/blob/master/Spam_Detection_with_RNN.ipynb\" target=\"_parent\"><img src=\"https://colab.research.google.com/assets/colab-badge.svg\" alt=\"Open In Colab\"/></a>"
      ]
    },
    {
      "cell_type": "markdown",
      "metadata": {
        "id": "8AZGddCqwtJp"
      },
      "source": [
        "#1) Data Preprocessing"
      ]
    },
    {
      "cell_type": "code",
      "metadata": {
        "id": "1DlklwHMg5H6"
      },
      "source": [
        "import tensorflow as tf\n",
        "import numpy as np\n",
        "import pandas as pd\n",
        "import matplotlib.pyplot as plt\n",
        "\n",
        "from sklearn.model_selection import train_test_split\n",
        "\n",
        "from tensorflow.keras.preprocessing.text import Tokenizer\n",
        "from tensorflow.keras.preprocessing.sequence import pad_sequences\n",
        "from tensorflow.keras.layers import Dense, Input, GlobalMaxPooling1D, LSTM, Embedding\n",
        "from tensorflow.keras.models import Model"
      ],
      "execution_count": 24,
      "outputs": []
    },
    {
      "cell_type": "code",
      "metadata": {
        "id": "FUhGR7PKwwgT"
      },
      "source": [
        "df = pd.read_csv('spam.csv', encoding='ISO-8859-1')"
      ],
      "execution_count": 4,
      "outputs": []
    },
    {
      "cell_type": "code",
      "metadata": {
        "colab": {
          "base_uri": "https://localhost:8080/",
          "height": 204
        },
        "id": "C37TxzfHwwjo",
        "outputId": "4f7630df-8d1c-4a6a-c595-af03c52e4529"
      },
      "source": [
        "df.head()"
      ],
      "execution_count": 5,
      "outputs": [
        {
          "output_type": "execute_result",
          "data": {
            "text/html": [
              "<div>\n",
              "<style scoped>\n",
              "    .dataframe tbody tr th:only-of-type {\n",
              "        vertical-align: middle;\n",
              "    }\n",
              "\n",
              "    .dataframe tbody tr th {\n",
              "        vertical-align: top;\n",
              "    }\n",
              "\n",
              "    .dataframe thead th {\n",
              "        text-align: right;\n",
              "    }\n",
              "</style>\n",
              "<table border=\"1\" class=\"dataframe\">\n",
              "  <thead>\n",
              "    <tr style=\"text-align: right;\">\n",
              "      <th></th>\n",
              "      <th>v1</th>\n",
              "      <th>v2</th>\n",
              "      <th>Unnamed: 2</th>\n",
              "      <th>Unnamed: 3</th>\n",
              "      <th>Unnamed: 4</th>\n",
              "    </tr>\n",
              "  </thead>\n",
              "  <tbody>\n",
              "    <tr>\n",
              "      <th>0</th>\n",
              "      <td>ham</td>\n",
              "      <td>Go until jurong point, crazy.. Available only ...</td>\n",
              "      <td>NaN</td>\n",
              "      <td>NaN</td>\n",
              "      <td>NaN</td>\n",
              "    </tr>\n",
              "    <tr>\n",
              "      <th>1</th>\n",
              "      <td>ham</td>\n",
              "      <td>Ok lar... Joking wif u oni...</td>\n",
              "      <td>NaN</td>\n",
              "      <td>NaN</td>\n",
              "      <td>NaN</td>\n",
              "    </tr>\n",
              "    <tr>\n",
              "      <th>2</th>\n",
              "      <td>spam</td>\n",
              "      <td>Free entry in 2 a wkly comp to win FA Cup fina...</td>\n",
              "      <td>NaN</td>\n",
              "      <td>NaN</td>\n",
              "      <td>NaN</td>\n",
              "    </tr>\n",
              "    <tr>\n",
              "      <th>3</th>\n",
              "      <td>ham</td>\n",
              "      <td>U dun say so early hor... U c already then say...</td>\n",
              "      <td>NaN</td>\n",
              "      <td>NaN</td>\n",
              "      <td>NaN</td>\n",
              "    </tr>\n",
              "    <tr>\n",
              "      <th>4</th>\n",
              "      <td>ham</td>\n",
              "      <td>Nah I don't think he goes to usf, he lives aro...</td>\n",
              "      <td>NaN</td>\n",
              "      <td>NaN</td>\n",
              "      <td>NaN</td>\n",
              "    </tr>\n",
              "  </tbody>\n",
              "</table>\n",
              "</div>"
            ],
            "text/plain": [
              "     v1  ... Unnamed: 4\n",
              "0   ham  ...        NaN\n",
              "1   ham  ...        NaN\n",
              "2  spam  ...        NaN\n",
              "3   ham  ...        NaN\n",
              "4   ham  ...        NaN\n",
              "\n",
              "[5 rows x 5 columns]"
            ]
          },
          "metadata": {},
          "execution_count": 5
        }
      ]
    },
    {
      "cell_type": "code",
      "metadata": {
        "id": "7vOapJ-_wwmX"
      },
      "source": [
        "df = df.drop([\"Unnamed: 2\",\"Unnamed: 3\",\"Unnamed: 4\"], axis=1)"
      ],
      "execution_count": 6,
      "outputs": []
    },
    {
      "cell_type": "code",
      "metadata": {
        "colab": {
          "base_uri": "https://localhost:8080/",
          "height": 204
        },
        "id": "R3GPCtTTwwpB",
        "outputId": "0a679709-9891-4a8c-b9b8-226ac8382a86"
      },
      "source": [
        "df.head()"
      ],
      "execution_count": 7,
      "outputs": [
        {
          "output_type": "execute_result",
          "data": {
            "text/html": [
              "<div>\n",
              "<style scoped>\n",
              "    .dataframe tbody tr th:only-of-type {\n",
              "        vertical-align: middle;\n",
              "    }\n",
              "\n",
              "    .dataframe tbody tr th {\n",
              "        vertical-align: top;\n",
              "    }\n",
              "\n",
              "    .dataframe thead th {\n",
              "        text-align: right;\n",
              "    }\n",
              "</style>\n",
              "<table border=\"1\" class=\"dataframe\">\n",
              "  <thead>\n",
              "    <tr style=\"text-align: right;\">\n",
              "      <th></th>\n",
              "      <th>v1</th>\n",
              "      <th>v2</th>\n",
              "    </tr>\n",
              "  </thead>\n",
              "  <tbody>\n",
              "    <tr>\n",
              "      <th>0</th>\n",
              "      <td>ham</td>\n",
              "      <td>Go until jurong point, crazy.. Available only ...</td>\n",
              "    </tr>\n",
              "    <tr>\n",
              "      <th>1</th>\n",
              "      <td>ham</td>\n",
              "      <td>Ok lar... Joking wif u oni...</td>\n",
              "    </tr>\n",
              "    <tr>\n",
              "      <th>2</th>\n",
              "      <td>spam</td>\n",
              "      <td>Free entry in 2 a wkly comp to win FA Cup fina...</td>\n",
              "    </tr>\n",
              "    <tr>\n",
              "      <th>3</th>\n",
              "      <td>ham</td>\n",
              "      <td>U dun say so early hor... U c already then say...</td>\n",
              "    </tr>\n",
              "    <tr>\n",
              "      <th>4</th>\n",
              "      <td>ham</td>\n",
              "      <td>Nah I don't think he goes to usf, he lives aro...</td>\n",
              "    </tr>\n",
              "  </tbody>\n",
              "</table>\n",
              "</div>"
            ],
            "text/plain": [
              "     v1                                                 v2\n",
              "0   ham  Go until jurong point, crazy.. Available only ...\n",
              "1   ham                      Ok lar... Joking wif u oni...\n",
              "2  spam  Free entry in 2 a wkly comp to win FA Cup fina...\n",
              "3   ham  U dun say so early hor... U c already then say...\n",
              "4   ham  Nah I don't think he goes to usf, he lives aro..."
            ]
          },
          "metadata": {},
          "execution_count": 7
        }
      ]
    },
    {
      "cell_type": "code",
      "metadata": {
        "id": "xinVgfgMwwqs"
      },
      "source": [
        "df.columns = ['labels','data']"
      ],
      "execution_count": 8,
      "outputs": []
    },
    {
      "cell_type": "code",
      "metadata": {
        "colab": {
          "base_uri": "https://localhost:8080/",
          "height": 204
        },
        "id": "NvGD83ySwwtG",
        "outputId": "62a6e393-f4ce-4052-9041-a5495dc645ac"
      },
      "source": [
        "df.head()"
      ],
      "execution_count": 9,
      "outputs": [
        {
          "output_type": "execute_result",
          "data": {
            "text/html": [
              "<div>\n",
              "<style scoped>\n",
              "    .dataframe tbody tr th:only-of-type {\n",
              "        vertical-align: middle;\n",
              "    }\n",
              "\n",
              "    .dataframe tbody tr th {\n",
              "        vertical-align: top;\n",
              "    }\n",
              "\n",
              "    .dataframe thead th {\n",
              "        text-align: right;\n",
              "    }\n",
              "</style>\n",
              "<table border=\"1\" class=\"dataframe\">\n",
              "  <thead>\n",
              "    <tr style=\"text-align: right;\">\n",
              "      <th></th>\n",
              "      <th>labels</th>\n",
              "      <th>data</th>\n",
              "    </tr>\n",
              "  </thead>\n",
              "  <tbody>\n",
              "    <tr>\n",
              "      <th>0</th>\n",
              "      <td>ham</td>\n",
              "      <td>Go until jurong point, crazy.. Available only ...</td>\n",
              "    </tr>\n",
              "    <tr>\n",
              "      <th>1</th>\n",
              "      <td>ham</td>\n",
              "      <td>Ok lar... Joking wif u oni...</td>\n",
              "    </tr>\n",
              "    <tr>\n",
              "      <th>2</th>\n",
              "      <td>spam</td>\n",
              "      <td>Free entry in 2 a wkly comp to win FA Cup fina...</td>\n",
              "    </tr>\n",
              "    <tr>\n",
              "      <th>3</th>\n",
              "      <td>ham</td>\n",
              "      <td>U dun say so early hor... U c already then say...</td>\n",
              "    </tr>\n",
              "    <tr>\n",
              "      <th>4</th>\n",
              "      <td>ham</td>\n",
              "      <td>Nah I don't think he goes to usf, he lives aro...</td>\n",
              "    </tr>\n",
              "  </tbody>\n",
              "</table>\n",
              "</div>"
            ],
            "text/plain": [
              "  labels                                               data\n",
              "0    ham  Go until jurong point, crazy.. Available only ...\n",
              "1    ham                      Ok lar... Joking wif u oni...\n",
              "2   spam  Free entry in 2 a wkly comp to win FA Cup fina...\n",
              "3    ham  U dun say so early hor... U c already then say...\n",
              "4    ham  Nah I don't think he goes to usf, he lives aro..."
            ]
          },
          "metadata": {},
          "execution_count": 9
        }
      ]
    },
    {
      "cell_type": "code",
      "metadata": {
        "id": "VCVoZp8Ew6Md"
      },
      "source": [
        "df['b_labels'] = df['labels'].map({'ham':0 , 'spam':1})\n",
        "y = df['b_labels'].values"
      ],
      "execution_count": 10,
      "outputs": []
    },
    {
      "cell_type": "code",
      "metadata": {
        "colab": {
          "base_uri": "https://localhost:8080/"
        },
        "id": "wsphPsnow6PH",
        "outputId": "5c5910f7-b5eb-4ee9-b309-1d55e61c52f4"
      },
      "source": [
        "y"
      ],
      "execution_count": 11,
      "outputs": [
        {
          "output_type": "execute_result",
          "data": {
            "text/plain": [
              "array([0, 0, 1, ..., 0, 0, 0])"
            ]
          },
          "metadata": {},
          "execution_count": 11
        }
      ]
    },
    {
      "cell_type": "code",
      "metadata": {
        "id": "Fd8SAUOvw6RL"
      },
      "source": [
        "x_train, x_test, y_train, y_test = train_test_split(df['data'], y, test_size = 0.33)"
      ],
      "execution_count": 12,
      "outputs": []
    },
    {
      "cell_type": "code",
      "metadata": {
        "id": "HyhQ37uBw_2z"
      },
      "source": [
        "#Convert sentences to sequences\n",
        "max_vocab_size = 20000\n",
        "tokenizer = Tokenizer(num_words=max_vocab_size)\n",
        "tokenizer.fit_on_texts(x_train)"
      ],
      "execution_count": 13,
      "outputs": []
    },
    {
      "cell_type": "code",
      "metadata": {
        "id": "G-kNPwadw_5g"
      },
      "source": [
        "sequences_train = tokenizer.texts_to_sequences(x_train)\n",
        "sequences_test = tokenizer.texts_to_sequences(x_test)"
      ],
      "execution_count": 14,
      "outputs": []
    },
    {
      "cell_type": "code",
      "metadata": {
        "colab": {
          "base_uri": "https://localhost:8080/",
          "height": 35
        },
        "id": "LZ-_hPoNw_7h",
        "outputId": "20d7f6cb-e5b9-460a-e807-853c65364d10"
      },
      "source": [
        "x_train[3]"
      ],
      "execution_count": 15,
      "outputs": [
        {
          "output_type": "execute_result",
          "data": {
            "application/vnd.google.colaboratory.intrinsic+json": {
              "type": "string"
            },
            "text/plain": [
              "'U dun say so early hor... U c already then say...'"
            ]
          },
          "metadata": {},
          "execution_count": 15
        }
      ]
    },
    {
      "cell_type": "code",
      "metadata": {
        "colab": {
          "base_uri": "https://localhost:8080/"
        },
        "id": "c-uOjybZw6jq",
        "outputId": "637ce34d-47f0-4bb8-cc45-da53e37cc736"
      },
      "source": [
        "print(sequences_train[3])"
      ],
      "execution_count": 16,
      "outputs": [
        {
          "output_type": "stream",
          "name": "stdout",
          "text": [
            "[3, 17, 59, 3411, 23, 3, 22, 3412]\n"
          ]
        }
      ]
    },
    {
      "cell_type": "code",
      "metadata": {
        "colab": {
          "base_uri": "https://localhost:8080/"
        },
        "id": "1tQfx0WhxGzk",
        "outputId": "666d1e81-fc20-4f55-aa27-e779b82ab05d"
      },
      "source": [
        "word2idx = tokenizer.word_index\n",
        "V = len(word2idx)\n",
        "print('Total number of unique tokens :',V)"
      ],
      "execution_count": 17,
      "outputs": [
        {
          "output_type": "stream",
          "name": "stdout",
          "text": [
            "Total number of unique tokens : 7209\n"
          ]
        }
      ]
    },
    {
      "cell_type": "code",
      "metadata": {
        "colab": {
          "base_uri": "https://localhost:8080/"
        },
        "id": "ptfeCwyoxG2M",
        "outputId": "5b9f45ed-9740-4fba-b4ac-ee484df505b0"
      },
      "source": [
        "#pas sequences (to get N X T Matrix)\n",
        "\n",
        "data_train = pad_sequences(sequences_train)\n",
        "print('Shape of data train tensor:',data_train.shape)\n",
        "# N: number of samples and T: Number of time steps"
      ],
      "execution_count": 18,
      "outputs": [
        {
          "output_type": "stream",
          "name": "stdout",
          "text": [
            "Shape of data train tensor: (3733, 189)\n"
          ]
        }
      ]
    },
    {
      "cell_type": "code",
      "metadata": {
        "colab": {
          "base_uri": "https://localhost:8080/"
        },
        "id": "BgwbvMykxG4j",
        "outputId": "12048134-ea42-4228-951b-61b237c5da9d"
      },
      "source": [
        "data_train[3]"
      ],
      "execution_count": 19,
      "outputs": [
        {
          "output_type": "execute_result",
          "data": {
            "text/plain": [
              "array([   0,    0,    0,    0,    0,    0,    0,    0,    0,    0,    0,\n",
              "          0,    0,    0,    0,    0,    0,    0,    0,    0,    0,    0,\n",
              "          0,    0,    0,    0,    0,    0,    0,    0,    0,    0,    0,\n",
              "          0,    0,    0,    0,    0,    0,    0,    0,    0,    0,    0,\n",
              "          0,    0,    0,    0,    0,    0,    0,    0,    0,    0,    0,\n",
              "          0,    0,    0,    0,    0,    0,    0,    0,    0,    0,    0,\n",
              "          0,    0,    0,    0,    0,    0,    0,    0,    0,    0,    0,\n",
              "          0,    0,    0,    0,    0,    0,    0,    0,    0,    0,    0,\n",
              "          0,    0,    0,    0,    0,    0,    0,    0,    0,    0,    0,\n",
              "          0,    0,    0,    0,    0,    0,    0,    0,    0,    0,    0,\n",
              "          0,    0,    0,    0,    0,    0,    0,    0,    0,    0,    0,\n",
              "          0,    0,    0,    0,    0,    0,    0,    0,    0,    0,    0,\n",
              "          0,    0,    0,    0,    0,    0,    0,    0,    0,    0,    0,\n",
              "          0,    0,    0,    0,    0,    0,    0,    0,    0,    0,    0,\n",
              "          0,    0,    0,    0,    0,    0,    0,    0,    0,    0,    0,\n",
              "          0,    0,    0,    0,    0,    0,    0,    0,    0,    0,    0,\n",
              "          0,    0,    0,    0,    0,    3,   17,   59, 3411,   23,    3,\n",
              "         22, 3412], dtype=int32)"
            ]
          },
          "metadata": {},
          "execution_count": 19
        }
      ]
    },
    {
      "cell_type": "code",
      "metadata": {
        "colab": {
          "base_uri": "https://localhost:8080/"
        },
        "id": "pdqvlkSIxG88",
        "outputId": "c4c218a1-f62c-45e8-eb32-d4b88b7e6b04"
      },
      "source": [
        "len(data_train[3]) , len(data_train[300]) , len(data_train[45])"
      ],
      "execution_count": 20,
      "outputs": [
        {
          "output_type": "execute_result",
          "data": {
            "text/plain": [
              "(189, 189, 189)"
            ]
          },
          "metadata": {},
          "execution_count": 20
        }
      ]
    },
    {
      "cell_type": "code",
      "metadata": {
        "id": "jJthcaM0xN1a"
      },
      "source": [
        "# set the value of T to get seq. length\n",
        "T = data_train.shape[1]"
      ],
      "execution_count": 21,
      "outputs": []
    },
    {
      "cell_type": "code",
      "metadata": {
        "id": "lj1qo73ExN4G"
      },
      "source": [
        "# pas the test set\n",
        "data_test = pad_sequences(sequences_test, maxlen=T)\n",
        "# maxlen = T for truncating longer sentences in test set"
      ],
      "execution_count": 22,
      "outputs": []
    },
    {
      "cell_type": "code",
      "metadata": {
        "colab": {
          "base_uri": "https://localhost:8080/"
        },
        "id": "O4bs1rpYxN6e",
        "outputId": "c1ca230c-2f34-47be-dfde-5aaaa541037a"
      },
      "source": [
        "data_test.shape"
      ],
      "execution_count": 23,
      "outputs": [
        {
          "output_type": "execute_result",
          "data": {
            "text/plain": [
              "(1839, 189)"
            ]
          },
          "metadata": {},
          "execution_count": 23
        }
      ]
    },
    {
      "cell_type": "markdown",
      "metadata": {
        "id": "hIjXie4CxUbR"
      },
      "source": [
        "#2) Building the Model"
      ]
    },
    {
      "cell_type": "code",
      "metadata": {
        "id": "L2-tnRWBxWom"
      },
      "source": [
        " # Word vector size\n",
        " D = 20\n",
        "\n",
        " # Hidden state dimensionality\n",
        " M = 15\n",
        "\n",
        " # Input layer\n",
        " i = Input(shape=(T,))\n",
        "\n",
        " # Embeding layer\n",
        " x = Embedding(V + 1, D)(i)\n",
        "\n",
        " # LSTM layer\n",
        " x = LSTM(M,return_sequences=True)(x)\n",
        " x = GlobalMaxPooling1D()(x)\n",
        "\n",
        " # Dense layer\n",
        " x = Dense(1, activation='sigmoid')(x) \n",
        " # it is a binary classification, so activation func. = 'sigmoid'\n",
        "\n",
        " model = Model(i,x)"
      ],
      "execution_count": 25,
      "outputs": []
    },
    {
      "cell_type": "code",
      "metadata": {
        "id": "v9-MHkTGzoom"
      },
      "source": [
        "# Compile the model\n",
        "model.compile(optimizer='adam', loss='binary_crossentropy', metrics=['accuracy'])"
      ],
      "execution_count": 26,
      "outputs": []
    },
    {
      "cell_type": "code",
      "metadata": {
        "colab": {
          "base_uri": "https://localhost:8080/"
        },
        "id": "7QeZLWa3z69t",
        "outputId": "e4d1f0b4-f3ed-41ab-becf-da21ae110bea"
      },
      "source": [
        "# Train\n",
        "r = model.fit(x=data_train, y=y_train, epochs=10, validation_data=(data_test,y_test))"
      ],
      "execution_count": 27,
      "outputs": [
        {
          "output_type": "stream",
          "name": "stdout",
          "text": [
            "Epoch 1/10\n",
            "117/117 [==============================] - 13s 88ms/step - loss: 0.4501 - accuracy: 0.8610 - val_loss: 0.3414 - val_accuracy: 0.8760\n",
            "Epoch 2/10\n",
            "117/117 [==============================] - 10s 84ms/step - loss: 0.3228 - accuracy: 0.8610 - val_loss: 0.2806 - val_accuracy: 0.8760\n",
            "Epoch 3/10\n",
            "117/117 [==============================] - 10s 86ms/step - loss: 0.2250 - accuracy: 0.8813 - val_loss: 0.1719 - val_accuracy: 0.9592\n",
            "Epoch 4/10\n",
            "117/117 [==============================] - 10s 85ms/step - loss: 0.1385 - accuracy: 0.9909 - val_loss: 0.1196 - val_accuracy: 0.9859\n",
            "Epoch 5/10\n",
            "117/117 [==============================] - 10s 87ms/step - loss: 0.0864 - accuracy: 0.9960 - val_loss: 0.0884 - val_accuracy: 0.9864\n",
            "Epoch 6/10\n",
            "117/117 [==============================] - 10s 86ms/step - loss: 0.0554 - accuracy: 0.9984 - val_loss: 0.0696 - val_accuracy: 0.9886\n",
            "Epoch 7/10\n",
            "117/117 [==============================] - 10s 87ms/step - loss: 0.0369 - accuracy: 0.9992 - val_loss: 0.0631 - val_accuracy: 0.9875\n",
            "Epoch 8/10\n",
            "117/117 [==============================] - 10s 85ms/step - loss: 0.0275 - accuracy: 0.9992 - val_loss: 0.0580 - val_accuracy: 0.9886\n",
            "Epoch 9/10\n",
            "117/117 [==============================] - 10s 85ms/step - loss: 0.0202 - accuracy: 0.9997 - val_loss: 0.0563 - val_accuracy: 0.9859\n",
            "Epoch 10/10\n",
            "117/117 [==============================] - 10s 85ms/step - loss: 0.0158 - accuracy: 0.9997 - val_loss: 0.0547 - val_accuracy: 0.9859\n"
          ]
        }
      ]
    },
    {
      "cell_type": "code",
      "metadata": {
        "colab": {
          "base_uri": "https://localhost:8080/",
          "height": 265
        },
        "id": "Jju4It3Q0rUL",
        "outputId": "e403fb9e-de35-4359-8225-56201474a174"
      },
      "source": [
        "plt.plot(r.history['loss'], label='Loss')\n",
        "plt.plot(r.history['val_loss'], label='Validation Loss')\n",
        "plt.legend()\n",
        "plt.show()"
      ],
      "execution_count": 28,
      "outputs": [
        {
          "output_type": "display_data",
          "data": {
            "image/png": "[encoded data removed]",
            "text/plain": [
              "<Figure size 432x288 with 1 Axes>"
            ]
          },
          "metadata": {
            "needs_background": "light"
          }
        }
      ]
    },
    {
      "cell_type": "code",
      "metadata": {
        "colab": {
          "base_uri": "https://localhost:8080/",
          "height": 265
        },
        "id": "hmANMDyq1G4U",
        "outputId": "868de803-dcdd-4d2a-c4eb-353eaf281b82"
      },
      "source": [
        "plt.plot(r.history['accuracy'], label='Accuracy')\n",
        "plt.plot(r.history['val_accuracy'], label='Validation Accuracy')\n",
        "plt.legend()\n",
        "plt.show()"
      ],
      "execution_count": 29,
      "outputs": [
        {
          "output_type": "display_data",
          "data": {
            "image/png": "[encoded data removed]",
            "text/plain": [
              "<Figure size 432x288 with 1 Axes>"
            ]
          },
          "metadata": {
            "needs_background": "light"
          }
        }
      ]
    },
    {
      "cell_type": "markdown",
      "metadata": {
        "id": "s5EzExID1w5M"
      },
      "source": [
        "## The effect of the change taking place in Word vector size"
      ]
    },
    {
      "cell_type": "code",
      "metadata": {
        "colab": {
          "base_uri": "https://localhost:8080/"
        },
        "id": "ZvmHzVLk1l7r",
        "outputId": "a53550ea-3585-4c17-afed-fcb32e5f1755"
      },
      "source": [
        " # Word vector size\n",
        " D = 80\n",
        "\n",
        " # Hidden state dimensionality\n",
        " M = 15\n",
        "\n",
        " # Input layer\n",
        " i = Input(shape=(T,))\n",
        "\n",
        " # Embeding layer\n",
        " x = Embedding(V + 1, D)(i)\n",
        "\n",
        " # LSTM layer\n",
        " x = LSTM(M,return_sequences=True)(x)\n",
        " x = GlobalMaxPooling1D()(x)\n",
        "\n",
        " # Dense layer\n",
        " x = Dense(1, activation='sigmoid')(x) \n",
        " # it is a binary classification, so activation func. = 'sigmoid'\n",
        "\n",
        " model = Model(i,x)\n",
        "\n",
        " # Compile the model\n",
        " model.compile(optimizer='adam', loss='binary_crossentropy', metrics=['accuracy'])\n",
        "\n",
        " # Train\n",
        " r = model.fit(x=data_train, y=y_train, epochs=10, validation_data=(data_test,y_test))"
      ],
      "execution_count": 30,
      "outputs": [
        {
          "output_type": "stream",
          "name": "stdout",
          "text": [
            "Epoch 1/10\n",
            "117/117 [==============================] - 15s 109ms/step - loss: 0.4116 - accuracy: 0.8607 - val_loss: 0.2523 - val_accuracy: 0.8760\n",
            "Epoch 2/10\n",
            "117/117 [==============================] - 12s 104ms/step - loss: 0.1486 - accuracy: 0.9512 - val_loss: 0.0928 - val_accuracy: 0.9810\n",
            "Epoch 3/10\n",
            "117/117 [==============================] - 12s 101ms/step - loss: 0.0533 - accuracy: 0.9938 - val_loss: 0.0594 - val_accuracy: 0.9864\n",
            "Epoch 4/10\n",
            "117/117 [==============================] - 12s 101ms/step - loss: 0.0257 - accuracy: 0.9981 - val_loss: 0.0516 - val_accuracy: 0.9875\n",
            "Epoch 5/10\n",
            "117/117 [==============================] - 12s 101ms/step - loss: 0.0144 - accuracy: 0.9995 - val_loss: 0.0505 - val_accuracy: 0.9859\n",
            "Epoch 6/10\n",
            "117/117 [==============================] - 12s 100ms/step - loss: 0.0095 - accuracy: 0.9997 - val_loss: 0.0499 - val_accuracy: 0.9853\n",
            "Epoch 7/10\n",
            "117/117 [==============================] - 12s 99ms/step - loss: 0.0069 - accuracy: 0.9997 - val_loss: 0.0507 - val_accuracy: 0.9848\n",
            "Epoch 8/10\n",
            "117/117 [==============================] - 11s 98ms/step - loss: 0.0052 - accuracy: 0.9997 - val_loss: 0.0540 - val_accuracy: 0.9864\n",
            "Epoch 9/10\n",
            "117/117 [==============================] - 11s 98ms/step - loss: 0.0040 - accuracy: 0.9997 - val_loss: 0.0557 - val_accuracy: 0.9859\n",
            "Epoch 10/10\n",
            "117/117 [==============================] - 12s 99ms/step - loss: 0.0032 - accuracy: 0.9997 - val_loss: 0.0590 - val_accuracy: 0.9859\n"
          ]
        }
      ]
    },
    {
      "cell_type": "code",
      "metadata": {
        "colab": {
          "base_uri": "https://localhost:8080/",
          "height": 265
        },
        "id": "fRlQAJSy2LK_",
        "outputId": "7b1970ba-98ca-47da-c0ce-e2eb2dba2f86"
      },
      "source": [
        "plt.plot(r.history['loss'], label='Loss')\n",
        "plt.plot(r.history['val_loss'], label='Validation Loss')\n",
        "plt.legend()\n",
        "plt.show()"
      ],
      "execution_count": 31,
      "outputs": [
        {
          "output_type": "display_data",
          "data": {
            "image/png": "[encoded data removed]",
            "text/plain": [
              "<Figure size 432x288 with 1 Axes>"
            ]
          },
          "metadata": {
            "needs_background": "light"
          }
        }
      ]
    },
    {
      "cell_type": "code",
      "metadata": {
        "colab": {
          "base_uri": "https://localhost:8080/",
          "height": 265
        },
        "id": "dTidMEvh2LTp",
        "outputId": "eaa5f27e-d802-43e3-e910-ca61bb928891"
      },
      "source": [
        "plt.plot(r.history['accuracy'], label='Accuracy')\n",
        "plt.plot(r.history['val_accuracy'], label='Validation Accuracy')\n",
        "plt.legend()\n",
        "plt.show()"
      ],
      "execution_count": 32,
      "outputs": [
        {
          "output_type": "display_data",
          "data": {
            "image/png": "[encoded data removed]",
            "text/plain": [
              "<Figure size 432x288 with 1 Axes>"
            ]
          },
          "metadata": {
            "needs_background": "light"
          }
        }
      ]
    },
    {
      "cell_type": "markdown",
      "metadata": {
        "id": "ZiA78ae42a3I"
      },
      "source": [
        "##Effect of change in hidden state dimensionality"
      ]
    },
    {
      "cell_type": "code",
      "metadata": {
        "colab": {
          "base_uri": "https://localhost:8080/"
        },
        "id": "7x83oa7Y2cLz",
        "outputId": "bd51fdb6-b07a-4654-c7cb-dc5a2f2f918f"
      },
      "source": [
        " # Word vector size\n",
        " D = 20\n",
        "\n",
        " # Hidden state dimensionality\n",
        " M = 60\n",
        "\n",
        " # Input layer\n",
        " i = Input(shape=(T,))\n",
        "\n",
        " # Embeding layer\n",
        " x = Embedding(V + 1, D)(i)\n",
        "\n",
        " # LSTM layer\n",
        " x = LSTM(M,return_sequences=True)(x)\n",
        " x = GlobalMaxPooling1D()(x)\n",
        "\n",
        " # Dense layer\n",
        " x = Dense(1, activation='sigmoid')(x) \n",
        " # it is a binary classification, so activation func. = 'sigmoid'\n",
        "\n",
        " model = Model(i,x)\n",
        "\n",
        " # Compile the model\n",
        " model.compile(optimizer='adam', loss='binary_crossentropy', metrics=['accuracy'])\n",
        "\n",
        " # Train\n",
        " r = model.fit(x=data_train, y=y_train, epochs=10, validation_data=(data_test,y_test))"
      ],
      "execution_count": 33,
      "outputs": [
        {
          "output_type": "stream",
          "name": "stdout",
          "text": [
            "Epoch 1/10\n",
            "117/117 [==============================] - 18s 136ms/step - loss: 0.4342 - accuracy: 0.8610 - val_loss: 0.3681 - val_accuracy: 0.8760\n",
            "Epoch 2/10\n",
            "117/117 [==============================] - 15s 130ms/step - loss: 0.3191 - accuracy: 0.8749 - val_loss: 0.1484 - val_accuracy: 0.9755\n",
            "Epoch 3/10\n",
            "117/117 [==============================] - 16s 135ms/step - loss: 0.0896 - accuracy: 0.9839 - val_loss: 0.0865 - val_accuracy: 0.9788\n",
            "Epoch 4/10\n",
            "117/117 [==============================] - 15s 132ms/step - loss: 0.0461 - accuracy: 0.9909 - val_loss: 0.0767 - val_accuracy: 0.9810\n",
            "Epoch 5/10\n",
            "117/117 [==============================] - 15s 130ms/step - loss: 0.0290 - accuracy: 0.9946 - val_loss: 0.1004 - val_accuracy: 0.9728\n",
            "Epoch 6/10\n",
            "117/117 [==============================] - 15s 131ms/step - loss: 0.0228 - accuracy: 0.9962 - val_loss: 0.0696 - val_accuracy: 0.9815\n",
            "Epoch 7/10\n",
            "117/117 [==============================] - 15s 130ms/step - loss: 0.0137 - accuracy: 0.9973 - val_loss: 0.0640 - val_accuracy: 0.9810\n",
            "Epoch 8/10\n",
            "117/117 [==============================] - 15s 128ms/step - loss: 0.0093 - accuracy: 0.9981 - val_loss: 0.0713 - val_accuracy: 0.9799\n",
            "Epoch 9/10\n",
            "117/117 [==============================] - 15s 132ms/step - loss: 0.0070 - accuracy: 0.9987 - val_loss: 0.0966 - val_accuracy: 0.9701\n",
            "Epoch 10/10\n",
            "117/117 [==============================] - 15s 128ms/step - loss: 0.0111 - accuracy: 0.9973 - val_loss: 0.0819 - val_accuracy: 0.9826\n"
          ]
        }
      ]
    },
    {
      "cell_type": "code",
      "metadata": {
        "colab": {
          "base_uri": "https://localhost:8080/",
          "height": 265
        },
        "id": "xA8A6Ooh2-Jo",
        "outputId": "e87c2ac8-b500-421e-8edd-80f833ee8739"
      },
      "source": [
        "plt.plot(r.history['loss'], label='Loss')\n",
        "plt.plot(r.history['val_loss'], label='Validation Loss')\n",
        "plt.legend()\n",
        "plt.show()"
      ],
      "execution_count": 34,
      "outputs": [
        {
          "output_type": "display_data",
          "data": {
            "image/png": "[encoded data removed]",
            "text/plain": [
              "<Figure size 432x288 with 1 Axes>"
            ]
          },
          "metadata": {
            "needs_background": "light"
          }
        }
      ]
    },
    {
      "cell_type": "code",
      "metadata": {
        "colab": {
          "base_uri": "https://localhost:8080/",
          "height": 265
        },
        "id": "Hq_3vGxP2-L6",
        "outputId": "07ba84e8-fb99-4f31-961c-d900e1f6e561"
      },
      "source": [
        "plt.plot(r.history['accuracy'], label='Accuracy')\n",
        "plt.plot(r.history['val_accuracy'], label='Validation Accuracy')\n",
        "plt.legend()\n",
        "plt.show()"
      ],
      "execution_count": 35,
      "outputs": [
        {
          "output_type": "display_data",
          "data": {
            "image/png": "[encoded data removed]",
            "text/plain": [
              "<Figure size 432x288 with 1 Axes>"
            ]
          },
          "metadata": {
            "needs_background": "light"
          }
        }
      ]
    }
  ]
}