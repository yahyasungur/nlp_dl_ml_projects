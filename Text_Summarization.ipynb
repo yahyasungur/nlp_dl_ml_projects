{
  "nbformat": 4,
  "nbformat_minor": 0,
  "metadata": {
    "colab": {
      "name": "Text Summarization.ipynb",
      "provenance": [],
      "authorship_tag": "ABX9TyMogB2stFA+zo2Qmeg2A3O1",
      "include_colab_link": true
    },
    "kernelspec": {
      "name": "python3",
      "display_name": "Python 3"
    },
    "language_info": {
      "name": "python"
    }
  },
  "cells": [
    {
      "cell_type": "markdown",
      "metadata": {
        "id": "view-in-github",
        "colab_type": "text"
      },
      "source": [
        "<a href=\"https://colab.research.google.com/github/yahyasungur/nlp_dl_ml_projects/blob/master/Text_Summarization.ipynb\" target=\"_parent\"><img src=\"https://colab.research.google.com/assets/colab-badge.svg\" alt=\"Open In Colab\"/></a>"
      ]
    },
    {
      "cell_type": "markdown",
      "metadata": {
        "id": "7ypb3Npi8Ub6"
      },
      "source": [
        "#Text Summarization"
      ]
    },
    {
      "cell_type": "code",
      "metadata": {
        "id": "SVb-We_F9ETQ"
      },
      "source": [
        "text = \"\"\" Maria Sharapova has basically no friends as tennis players on the WTA Tour. The Russian player has no problems in openly speaking about it and in a recent interview she said: ‘I don’t really hide any feelings too much.\n",
        "I think everyone knows this is my job here. When I’m on the courts or when I’m on the court playing, I’m a competitor and I want to beat every single person whether they’re in the locker room or across the net.\n",
        "So I’m not the one to strike up a conversation about the weather and know that in the next few minutes I have to go and try to win a tennis match.\n",
        "I’m a pretty competitive girl. I say my hellos, but I’m not sending any players flowers as well. Uhm, I’m not really friendly or close to many players.\n",
        "I have not a lot of friends away from the courts.’ When she said she is not really close to a lot of players, is that something strategic that she is doing? Is it different on the men’s tour than the women’s tour? ‘No, not at all.\n",
        "I think just because you’re in the same sport doesn’t mean that you have to be friends with everyone just because you’re categorized, you’re a tennis player, so you’re going to get along with tennis players.\n",
        "I think every person has different interests. I have friends that have completely different jobs and interests, and I’ve met them in very different parts of my life.\n",
        "I think everyone just thinks because we’re tennis players we should be the greatest of friends. But ultimately tennis is just a very small part of what we do.\n",
        "There are so many other things that we’re interested in, that we do. \"\"\""
      ],
      "execution_count": 37,
      "outputs": []
    },
    {
      "cell_type": "code",
      "metadata": {
        "colab": {
          "base_uri": "https://localhost:8080/"
        },
        "id": "n3-M9Ngm9HR4",
        "outputId": "9d5550d7-c6aa-4bb7-923d-41e0dce09565"
      },
      "source": [
        "len(text)"
      ],
      "execution_count": 38,
      "outputs": [
        {
          "output_type": "execute_result",
          "data": {
            "text/plain": [
              "1563"
            ]
          },
          "metadata": {},
          "execution_count": 38
        }
      ]
    },
    {
      "cell_type": "markdown",
      "metadata": {
        "id": "HKjNAe9Y8YrQ"
      },
      "source": [
        "#1) Importing the libraries and Dataset"
      ]
    },
    {
      "cell_type": "code",
      "metadata": {
        "id": "eKvGRiWQ8woT"
      },
      "source": [
        "import spacy\n",
        "from spacy.lang.en.stop_words import STOP_WORDS\n",
        "from string import punctuation"
      ],
      "execution_count": 39,
      "outputs": []
    },
    {
      "cell_type": "code",
      "metadata": {
        "id": "wqHAPx6q-JiH"
      },
      "source": [
        "nlp = spacy.load('en_core_web_sm')"
      ],
      "execution_count": 40,
      "outputs": []
    },
    {
      "cell_type": "code",
      "metadata": {
        "id": "XUFETdvo-OiA"
      },
      "source": [
        "doc = nlp(text)"
      ],
      "execution_count": 41,
      "outputs": []
    },
    {
      "cell_type": "code",
      "metadata": {
        "id": "W04x0KuF-SO0"
      },
      "source": [
        "tokens = [token.text for token in doc]"
      ],
      "execution_count": 42,
      "outputs": []
    },
    {
      "cell_type": "code",
      "metadata": {
        "colab": {
          "base_uri": "https://localhost:8080/"
        },
        "id": "BhomxxvP-lv9",
        "outputId": "64bd20c9-656b-407b-8cba-845c7a3177fa"
      },
      "source": [
        "print(tokens)"
      ],
      "execution_count": 43,
      "outputs": [
        {
          "output_type": "stream",
          "name": "stdout",
          "text": [
            "[' ', 'Maria', 'Sharapova', 'has', 'basically', 'no', 'friends', 'as', 'tennis', 'players', 'on', 'the', 'WTA', 'Tour', '.', 'The', 'Russian', 'player', 'has', 'no', 'problems', 'in', 'openly', 'speaking', 'about', 'it', 'and', 'in', 'a', 'recent', 'interview', 'she', 'said', ':', '‘', 'I', 'do', 'n’t', 'really', 'hide', 'any', 'feelings', 'too', 'much', '.', '\\n', 'I', 'think', 'everyone', 'knows', 'this', 'is', 'my', 'job', 'here', '.', 'When', 'I', '’m', 'on', 'the', 'courts', 'or', 'when', 'I', '’m', 'on', 'the', 'court', 'playing', ',', 'I', '’m', 'a', 'competitor', 'and', 'I', 'want', 'to', 'beat', 'every', 'single', 'person', 'whether', 'they', '’re', 'in', 'the', 'locker', 'room', 'or', 'across', 'the', 'net', '.', '\\n', 'So', 'I', '’m', 'not', 'the', 'one', 'to', 'strike', 'up', 'a', 'conversation', 'about', 'the', 'weather', 'and', 'know', 'that', 'in', 'the', 'next', 'few', 'minutes', 'I', 'have', 'to', 'go', 'and', 'try', 'to', 'win', 'a', 'tennis', 'match', '.', '\\n', 'I', '’m', 'a', 'pretty', 'competitive', 'girl', '.', 'I', 'say', 'my', 'hellos', ',', 'but', 'I', '’m', 'not', 'sending', 'any', 'players', 'flowers', 'as', 'well', '.', 'Uhm', ',', 'I', '’m', 'not', 'really', 'friendly', 'or', 'close', 'to', 'many', 'players', '.', '\\n', 'I', 'have', 'not', 'a', 'lot', 'of', 'friends', 'away', 'from', 'the', 'courts', '.', '’', 'When', 'she', 'said', 'she', 'is', 'not', 'really', 'close', 'to', 'a', 'lot', 'of', 'players', ',', 'is', 'that', 'something', 'strategic', 'that', 'she', 'is', 'doing', '?', 'Is', 'it', 'different', 'on', 'the', 'men', '’s', 'tour', 'than', 'the', 'women', '’s', 'tour', '?', '‘', 'No', ',', 'not', 'at', 'all', '.', '\\n', 'I', 'think', 'just', 'because', 'you', '’re', 'in', 'the', 'same', 'sport', 'does', 'n’t', 'mean', 'that', 'you', 'have', 'to', 'be', 'friends', 'with', 'everyone', 'just', 'because', 'you', '’re', 'categorized', ',', 'you', '’re', 'a', 'tennis', 'player', ',', 'so', 'you', '’re', 'going', 'to', 'get', 'along', 'with', 'tennis', 'players', '.', '\\n', 'I', 'think', 'every', 'person', 'has', 'different', 'interests', '.', 'I', 'have', 'friends', 'that', 'have', 'completely', 'different', 'jobs', 'and', 'interests', ',', 'and', 'I', '’ve', 'met', 'them', 'in', 'very', 'different', 'parts', 'of', 'my', 'life', '.', '\\n', 'I', 'think', 'everyone', 'just', 'thinks', 'because', 'we', '’re', 'tennis', 'players', 'we', 'should', 'be', 'the', 'greatest', 'of', 'friends', '.', 'But', 'ultimately', 'tennis', 'is', 'just', 'a', 'very', 'small', 'part', 'of', 'what', 'we', 'do', '.', '\\n', 'There', 'are', 'so', 'many', 'other', 'things', 'that', 'we', '’re', 'interested', 'in', ',', 'that', 'we', 'do', '.']\n"
          ]
        }
      ]
    },
    {
      "cell_type": "code",
      "metadata": {
        "id": "gY9vxNze-vIL"
      },
      "source": [
        "punctuation = punctuation + \"\\n\""
      ],
      "execution_count": 44,
      "outputs": []
    },
    {
      "cell_type": "code",
      "metadata": {
        "colab": {
          "base_uri": "https://localhost:8080/",
          "height": 0
        },
        "id": "0Hnkkq2T-zN9",
        "outputId": "b4a22547-b22e-4ba0-884c-95a8465d2177"
      },
      "source": [
        "punctuation"
      ],
      "execution_count": 45,
      "outputs": [
        {
          "output_type": "execute_result",
          "data": {
            "application/vnd.google.colaboratory.intrinsic+json": {
              "type": "string"
            },
            "text/plain": [
              "'!\"#$%&\\'()*+,-./:;<=>?@[\\\\]^_`{|}~\\n'"
            ]
          },
          "metadata": {},
          "execution_count": 45
        }
      ]
    },
    {
      "cell_type": "markdown",
      "metadata": {
        "id": "tZsxT1FJ8eEg"
      },
      "source": [
        "#2) Text Cleaning"
      ]
    },
    {
      "cell_type": "code",
      "metadata": {
        "id": "SXZtMnM38xI9"
      },
      "source": [
        "word_frequency = {}\n",
        "\n",
        "stop_words = list(STOP_WORDS)\n",
        "\n",
        "for word in doc:\n",
        "  if word.text.lower() not in stop_words:\n",
        "    if word.text.lower() not in punctuation:\n",
        "      if word.text not in word_frequency.keys():\n",
        "        word_frequency[word.text] = 1\n",
        "      else:\n",
        "        word_frequency[word.text] += 1"
      ],
      "execution_count": 46,
      "outputs": []
    },
    {
      "cell_type": "code",
      "metadata": {
        "id": "_XwtNbWFBB-x"
      },
      "source": [
        "max_frequency = max(word_frequency.values())"
      ],
      "execution_count": 47,
      "outputs": []
    },
    {
      "cell_type": "code",
      "metadata": {
        "id": "5wqmBbaiBWrE"
      },
      "source": [
        "for word in word_frequency.keys():\n",
        "  word_frequency[word] = word_frequency[word] / max_frequency"
      ],
      "execution_count": 48,
      "outputs": []
    },
    {
      "cell_type": "markdown",
      "metadata": {
        "id": "7DHd3hgM8iAH"
      },
      "source": [
        "#3) Sentence Tokenization"
      ]
    },
    {
      "cell_type": "code",
      "metadata": {
        "id": "BiFZ_9Kw8xn9"
      },
      "source": [
        "sent_tokens = [sent for sent in doc.sents]"
      ],
      "execution_count": 49,
      "outputs": []
    },
    {
      "cell_type": "code",
      "metadata": {
        "colab": {
          "base_uri": "https://localhost:8080/"
        },
        "id": "U68kv4VyB2Z8",
        "outputId": "7b087bd8-57e9-4df8-8dcd-dc48f038463c"
      },
      "source": [
        "sent_tokens"
      ],
      "execution_count": 50,
      "outputs": [
        {
          "output_type": "execute_result",
          "data": {
            "text/plain": [
              "[ Maria Sharapova has basically no friends as tennis players on the WTA Tour.,\n",
              " The Russian player has no problems in openly speaking about it and,\n",
              " in a recent interview she said: ‘I don’t really hide any feelings too much.,\n",
              " I think everyone knows this is my job here.,\n",
              " When I’m on the courts or when I’m on the court playing,\n",
              " , I’m a competitor and I want to beat every single person whether they’re in the locker room or across the net.,\n",
              " So I’m not the one to strike up a conversation about the weather and know that in the next few minutes I have to go and try to win a tennis match.,\n",
              " I’m a pretty competitive girl.,\n",
              " I say my hellos, but I’m not sending any players flowers as well.,\n",
              " Uhm,\n",
              " , I’m not really friendly or close to many players.,\n",
              " I have not a lot of friends away from the courts.’,\n",
              " When she said she is not really close to a lot of players, is that something strategic that she is doing?,\n",
              " Is it different on the men’s tour than the women,\n",
              " ’s tour? ‘,\n",
              " No, not at all.,\n",
              " I think just because you’re in the same sport doesn’t mean that you have to be friends with everyone,\n",
              " just because you’re categorized,\n",
              " , you’re a tennis player, so you’re going to get along with tennis players.,\n",
              " I think every person has different interests.,\n",
              " I have friends that have completely different jobs and interests, and,\n",
              " I’ve met them in very different parts of my life.,\n",
              " I think everyone just thinks because we’re tennis players,\n",
              " we should be the greatest of friends.,\n",
              " But ultimately tennis is just a very small part of what we do.,\n",
              " There are so many other things that we’re interested in, that we do.]"
            ]
          },
          "metadata": {},
          "execution_count": 50
        }
      ]
    },
    {
      "cell_type": "code",
      "metadata": {
        "id": "axJ6SYY4B8kC"
      },
      "source": [
        "sent_score = {}\n",
        "\n",
        "for sent in sent_tokens:\n",
        "  for word in sent:\n",
        "    if word.text.lower() in word_frequency.keys():\n",
        "      if sent not in sent_score.keys():\n",
        "        sent_score[sent] = word_frequency[word.text.lower()]\n",
        "      else:\n",
        "        sent_score[sent] += word_frequency[word.text.lower()]"
      ],
      "execution_count": 51,
      "outputs": []
    },
    {
      "cell_type": "code",
      "metadata": {
        "colab": {
          "base_uri": "https://localhost:8080/"
        },
        "id": "IdSq9Hi5DF2Q",
        "outputId": "946a6393-0576-46cd-a3d0-9d2461285c68"
      },
      "source": [
        "sent_score"
      ],
      "execution_count": 52,
      "outputs": [
        {
          "output_type": "execute_result",
          "data": {
            "text/plain": [
              "{ Maria Sharapova has basically no friends as tennis players on the WTA Tour.: 3.5000000000000004,\n",
              " The Russian player has no problems in openly speaking about it and: 0.8333333333333333,\n",
              " in a recent interview she said: ‘I don’t really hide any feelings too much.: 1.3333333333333335,\n",
              " I think everyone knows this is my job here.: 0.9999999999999999,\n",
              " When I’m on the courts or when I’m on the court playing: 0.6666666666666666,\n",
              " , I’m a competitor and I want to beat every single person whether they’re in the locker room or across the net.: 1.5000000000000002,\n",
              " So I’m not the one to strike up a conversation about the weather and know that in the next few minutes I have to go and try to win a tennis match.: 2.333333333333333,\n",
              " I’m a pretty competitive girl.: 0.5,\n",
              " I say my hellos, but I’m not sending any players flowers as well.: 1.5,\n",
              " , I’m not really friendly or close to many players.: 1.5,\n",
              " I have not a lot of friends away from the courts.’: 1.8333333333333335,\n",
              " When she said she is not really close to a lot of players, is that something strategic that she is doing?: 2.1666666666666665,\n",
              " Is it different on the men’s tour than the women: 1.3333333333333333,\n",
              " ’s tour? ‘: 0.6666666666666666,\n",
              " I think just because you’re in the same sport doesn’t mean that you have to be friends with everyone: 1.8333333333333333,\n",
              " just because you’re categorized: 0.16666666666666666,\n",
              " , you’re a tennis player, so you’re going to get along with tennis players.: 3.5,\n",
              " I think every person has different interests.: 1.9999999999999998,\n",
              " I have friends that have completely different jobs and interests, and: 2.1666666666666665,\n",
              " I’ve met them in very different parts of my life.: 1.1666666666666665,\n",
              " I think everyone just thinks because we’re tennis players: 2.833333333333333,\n",
              " we should be the greatest of friends.: 1.0,\n",
              " But ultimately tennis is just a very small part of what we do.: 1.3333333333333335,\n",
              " There are so many other things that we’re interested in, that we do.: 0.3333333333333333}"
            ]
          },
          "metadata": {},
          "execution_count": 52
        }
      ]
    },
    {
      "cell_type": "markdown",
      "metadata": {
        "id": "GLO_PfSI8mL3"
      },
      "source": [
        "#4) Select Sentences with Max Scroe (%30)"
      ]
    },
    {
      "cell_type": "code",
      "metadata": {
        "id": "x_-9jKwO8F_Z"
      },
      "source": [
        "from heapq import nlargest"
      ],
      "execution_count": 53,
      "outputs": []
    },
    {
      "cell_type": "code",
      "metadata": {
        "colab": {
          "base_uri": "https://localhost:8080/"
        },
        "id": "fZIZhumHDdkO",
        "outputId": "db0cdf69-e4db-4944-c2da-1d83d78c1e04"
      },
      "source": [
        "len(sent_score) * 0.3"
      ],
      "execution_count": 54,
      "outputs": [
        {
          "output_type": "execute_result",
          "data": {
            "text/plain": [
              "7.199999999999999"
            ]
          },
          "metadata": {},
          "execution_count": 54
        }
      ]
    },
    {
      "cell_type": "code",
      "metadata": {
        "id": "F8nueGMEDorr"
      },
      "source": [
        "summary = nlargest(n= 8, iterable= sent_score, key= sent_score.get)"
      ],
      "execution_count": 55,
      "outputs": []
    },
    {
      "cell_type": "code",
      "metadata": {
        "id": "rfdR9UfoD-z4"
      },
      "source": [
        "final_summary = [word.text for word in summary]"
      ],
      "execution_count": 56,
      "outputs": []
    },
    {
      "cell_type": "code",
      "metadata": {
        "id": "se_iWLo7EGwy"
      },
      "source": [
        "final_summary = \" \".join(final_summary)"
      ],
      "execution_count": 57,
      "outputs": []
    },
    {
      "cell_type": "code",
      "metadata": {
        "colab": {
          "base_uri": "https://localhost:8080/",
          "height": 69
        },
        "id": "VS1JlbZXERiq",
        "outputId": "cf206da4-3420-4ee0-8b5b-4b17ecbe56bc"
      },
      "source": [
        "final_summary"
      ],
      "execution_count": 58,
      "outputs": [
        {
          "output_type": "execute_result",
          "data": {
            "application/vnd.google.colaboratory.intrinsic+json": {
              "type": "string"
            },
            "text/plain": [
              "' Maria Sharapova has basically no friends as tennis players on the WTA Tour. , you’re a tennis player, so you’re going to get along with tennis players.\\n I think everyone just thinks because we’re tennis players So I’m not the one to strike up a conversation about the weather and know that in the next few minutes I have to go and try to win a tennis match.\\n When she said she is not really close to a lot of players, is that something strategic that she is doing? I have friends that have completely different jobs and interests, and I think every person has different interests. I have not a lot of friends away from the courts.’'"
            ]
          },
          "metadata": {},
          "execution_count": 58
        }
      ]
    },
    {
      "cell_type": "code",
      "metadata": {
        "colab": {
          "base_uri": "https://localhost:8080/"
        },
        "id": "dWG6L1wrEqht",
        "outputId": "16df20f7-2704-424d-ab57-608d9b28f412"
      },
      "source": [
        "len(final_summary) / len(text)"
      ],
      "execution_count": 60,
      "outputs": [
        {
          "output_type": "execute_result",
          "data": {
            "text/plain": [
              "0.40435060780550225"
            ]
          },
          "metadata": {},
          "execution_count": 60
        }
      ]
    }
  ]
}